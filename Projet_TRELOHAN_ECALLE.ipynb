{
 "cells": [
  {
   "cell_type": "markdown",
   "id": "b41c12cb",
   "metadata": {},
   "source": [
    "# Parcours de graphe - ENORA TRELOHAN ET ALEXANDRE ECALLE"
   ]
  },
  {
   "cell_type": "markdown",
   "id": "65825fb7",
   "metadata": {},
   "source": [
    "L'objectif de ce projet est d'étudier des algorithmes de calcul de plus court chemin.\n",
    "\n",
    "Ce projet est :\n",
    "\n",
    "*   À faire par groupe de 4 maximum\n",
    "*   À rendre sous forme de notebook Jupyter sur Moodle au plus tard le vendredi 12 avril à 23h59.\n",
    "\n",
    "Ce sujet a été testé sur la machine virtuelle \"ULR Ubuntu 20.04\". Il devrait aussi fonctionner sur les installations Linux récentes, et sur Google Collab."
   ]
  },
  {
   "cell_type": "code",
   "execution_count": 34,
   "id": "04568b4b",
   "metadata": {
    "scrolled": true
   },
   "outputs": [
    {
     "name": "stdout",
     "output_type": "stream",
     "text": [
      "Requirement already satisfied: partition-networkx in c:\\python311\\lib\\site-packages (0.0.2)\n",
      "Requirement already satisfied: networkx in c:\\python311\\lib\\site-packages (from partition-networkx) (3.2.1)\n",
      "Requirement already satisfied: python-louvain in c:\\python311\\lib\\site-packages (from partition-networkx) (0.16)\n",
      "Requirement already satisfied: numpy in c:\\users\\admin\\appdata\\roaming\\python\\python311\\site-packages (from partition-networkx) (1.26.2)\n"
     ]
    },
    {
     "name": "stderr",
     "output_type": "stream",
     "text": [
      "DEPRECATION: Loading egg at c:\\python311\\lib\\site-packages\\vboxapi-1.0-py3.11.egg is deprecated. pip 24.3 will enforce this behaviour change. A possible replacement is to use pip for package installation.. Discussion can be found at https://github.com/pypa/pip/issues/12330\n",
      "\n",
      "[notice] A new release of pip is available: 23.3.1 -> 24.0\n",
      "[notice] To update, run: python.exe -m pip install --upgrade pip\n"
     ]
    },
    {
     "name": "stdout",
     "output_type": "stream",
     "text": [
      "Requirement already satisfied: matplotlib in c:\\users\\admin\\appdata\\roaming\\python\\python311\\site-packages (3.8.2)"
     ]
    },
    {
     "name": "stderr",
     "output_type": "stream",
     "text": [
      "DEPRECATION: Loading egg at c:\\python311\\lib\\site-packages\\vboxapi-1.0-py3.11.egg is deprecated. pip 24.3 will enforce this behaviour change. A possible replacement is to use pip for package installation.. Discussion can be found at https://github.com/pypa/pip/issues/12330\n",
      "\n",
      "[notice] A new release of pip is available: 23.3.1 -> 24.0\n",
      "[notice] To update, run: python.exe -m pip install --upgrade pip\n"
     ]
    },
    {
     "name": "stdout",
     "output_type": "stream",
     "text": [
      "\n",
      "Requirement already satisfied: contourpy>=1.0.1 in c:\\users\\admin\\appdata\\roaming\\python\\python311\\site-packages (from matplotlib) (1.2.0)\n",
      "Requirement already satisfied: cycler>=0.10 in c:\\users\\admin\\appdata\\roaming\\python\\python311\\site-packages (from matplotlib) (0.12.1)\n",
      "Requirement already satisfied: fonttools>=4.22.0 in c:\\users\\admin\\appdata\\roaming\\python\\python311\\site-packages (from matplotlib) (4.48.1)\n",
      "Requirement already satisfied: kiwisolver>=1.3.1 in c:\\users\\admin\\appdata\\roaming\\python\\python311\\site-packages (from matplotlib) (1.4.5)\n",
      "Requirement already satisfied: numpy<2,>=1.21 in c:\\users\\admin\\appdata\\roaming\\python\\python311\\site-packages (from matplotlib) (1.26.2)\n",
      "Requirement already satisfied: packaging>=20.0 in c:\\users\\admin\\appdata\\roaming\\python\\python311\\site-packages (from matplotlib) (23.2)\n",
      "Requirement already satisfied: pillow>=8 in c:\\users\\admin\\appdata\\roaming\\python\\python311\\site-packages (from matplotlib) (10.2.0)\n",
      "Requirement already satisfied: pyparsing>=2.3.1 in c:\\users\\admin\\appdata\\roaming\\python\\python311\\site-packages (from matplotlib) (3.1.1)\n",
      "Requirement already satisfied: python-dateutil>=2.7 in c:\\users\\admin\\appdata\\roaming\\python\\python311\\site-packages (from matplotlib) (2.8.2)\n",
      "Requirement already satisfied: six>=1.5 in c:\\users\\admin\\appdata\\roaming\\python\\python311\\site-packages (from python-dateutil>=2.7->matplotlib) (1.16.0)\n",
      "Requirement already satisfied: networkx in c:\\python311\\lib\\site-packages (3.2.1)\n"
     ]
    },
    {
     "name": "stderr",
     "output_type": "stream",
     "text": [
      "DEPRECATION: Loading egg at c:\\python311\\lib\\site-packages\\vboxapi-1.0-py3.11.egg is deprecated. pip 24.3 will enforce this behaviour change. A possible replacement is to use pip for package installation.. Discussion can be found at https://github.com/pypa/pip/issues/12330\n",
      "\n",
      "[notice] A new release of pip is available: 23.3.1 -> 24.0\n",
      "[notice] To update, run: python.exe -m pip install --upgrade pip\n"
     ]
    },
    {
     "name": "stdout",
     "output_type": "stream",
     "text": [
      "Requirement already satisfied: numpy in c:\\users\\admin\\appdata\\roaming\\python\\python311\\site-packages (1.26.2)\n"
     ]
    },
    {
     "name": "stderr",
     "output_type": "stream",
     "text": [
      "DEPRECATION: Loading egg at c:\\python311\\lib\\site-packages\\vboxapi-1.0-py3.11.egg is deprecated. pip 24.3 will enforce this behaviour change. A possible replacement is to use pip for package installation.. Discussion can be found at https://github.com/pypa/pip/issues/12330\n",
      "\n",
      "[notice] A new release of pip is available: 23.3.1 -> 24.0\n",
      "[notice] To update, run: python.exe -m pip install --upgrade pip\n"
     ]
    }
   ],
   "source": [
    "# Installation des dépendances\n",
    "\n",
    "!pip install partition-networkx\n",
    "!pip install matplotlib\n",
    "!pip install networkx\n",
    "!pip install numpy\n",
    "\n",
    "\n",
    "import networkx as nx\n",
    "import matplotlib.pyplot as plt\n",
    "import numpy as np"
   ]
  },
  {
   "cell_type": "code",
   "execution_count": 35,
   "id": "0f1030bc",
   "metadata": {},
   "outputs": [],
   "source": [
    "def mydraw(G, edges):\n",
    "    pos = nx.spring_layout(G)\n",
    "    nx.draw_networkx_nodes(G, pos, node_color=\"grey\")\n",
    "    nx.draw_networkx_edges(G, pos, edge_color=\"red\")\n",
    "    nx.draw_networkx_edges(G, pos, edgelist=edges, width=6, alpha=0.5, edge_color=\"orange\")\n",
    "    nx.draw_networkx_labels(G, pos)\n",
    "    plt.show()"
   ]
  },
  {
   "cell_type": "markdown",
   "id": "011912b8",
   "metadata": {},
   "source": [
    "## Échauffement"
   ]
  },
  {
   "cell_type": "markdown",
   "id": "b9c9a2e0",
   "metadata": {},
   "source": [
    "Le code ci dessous permet de générer un graphe $G$. Vous utiliserez ce graphe pour tout le reste du projet."
   ]
  },
  {
   "cell_type": "code",
   "execution_count": 36,
   "id": "25e1ff2d",
   "metadata": {},
   "outputs": [],
   "source": [
    "G = nx.gnp_random_graph(200, 0.6)\n",
    "\n",
    "sommet1 = 10\n",
    "sommet2 = 20"
   ]
  },
  {
   "cell_type": "markdown",
   "id": "9eaf845b",
   "metadata": {},
   "source": [
    "### Implémentation de l'algorithme de Dijkstra"
   ]
  },
  {
   "cell_type": "markdown",
   "id": "e29e0f17",
   "metadata": {},
   "source": [
    "L'algorithme de Dijkstra est un algorithme de calcul de plus court chemin dans un graphe, propose par Edsger Dijkstra en 1959.\n",
    "\n",
    "Je vous propose de commencer par implémenter cet algorithme. Vous avez normalement vu cet algorithme en CM et en TD. Si vous en avez besoin, vous pouvez aussi consulter la [page Wikipédia](https://fr.wikipedia.org/wiki/Algorithme_de_Dijkstra), ou même la [publication originale](https://d1wqtxts1xzle7.cloudfront.net/82011040/9256D-libre.pdf?1646987426=&response-content-disposition=inline%3B+filename%3DA_Note_on_Two_Problems_in_Connexion_with.pdf&Expires=1709315850&Signature=dcrazHFOoCjPooxh~~A8wHovENpsna4Moa2NqtpKl-eyfSW~buuvxBC0vuD6TyKEdViPTsnNg9ii1kQJt65WKHto3cWvoElwa8u8AjRHgAu7L~GVU~eeRCKL~vb1nQzWeOaMseIv27eWndKIvTnipqWqJ2QDueuwA8Ii9m6HOovxXqZPSVL1bsI~ok9uLfQ0R9-MHPeC8Xd5okdJUtgOTVrn1hrQZBRcRxyG-Aq1kxwO4iOM3yNiD-UKe4JFUq1d~FyFzo00G9zgaS0LfR-h0YBA4EYk89Vkfv6ZCdgWgq8ndaZjo~yuK7Azf2JZYWUkO-bGEN~mYSikOxTdBWvzyQ__&Key-Pair-Id=APKAJLOHF5GGSLRBV4ZA). Votre implémentation retournera un plus court chemin de la forme `[source, sommet_1, sommet_2, ..., target]`."
   ]
  },
  {
   "cell_type": "code",
   "execution_count": 37,
   "id": "e6590ccb",
   "metadata": {},
   "outputs": [],
   "source": [
    "def initDijkstra(G, sdeb):\n",
    "    d = {}\n",
    "    pred = {}\n",
    "    for s in G.nodes():\n",
    "        d[s] = float('inf')  # Initialisation des distances à l'infini\n",
    "        pred[s] = None  # Initialisation des prédécesseurs à None\n",
    "    d[sdeb] = 0  # La distance du sommet de départ à lui-même est nulle\n",
    "    return d, pred\n",
    "\n",
    "def findMin(Q, d):\n",
    "    min_distance = float('inf')\n",
    "    min_node = None\n",
    "    for s in Q:\n",
    "        if d[s] < min_distance:\n",
    "            min_distance = d[s]\n",
    "            min_node = s\n",
    "    return min_node\n",
    "\n",
    "def updateDist(G, d, pred, s1, s2):\n",
    "    if d[s2] > d[s1] + 1:  # Toutes les arêtes ont un poids de 1\n",
    "        d[s2] = d[s1] + 1\n",
    "        pred[s2] = s1\n",
    "\n",
    "def dijkstra(G, sdeb, sfin):\n",
    "    d, pred = initDijkstra(G, sdeb)\n",
    "    Q = set(G.nodes())  # Ensemble de tous les nœuds\n",
    "    while Q:  # Tant que Q n'est pas vide\n",
    "        s1 = findMin(Q, d)  # Trouver le nœud de distance minimale\n",
    "        if s1 == sfin:  # Si on atteint le nœud de fin, on arrête\n",
    "            break\n",
    "        Q.remove(s1)  # Retirer s1 de l'ensemble Q\n",
    "        for s2 in G.neighbors(s1):  # Pour chaque nœud voisin de s1\n",
    "            updateDist(G, d, pred, s1, s2)  # Mettre à jour les distances\n",
    "    # Reconstruction du chemin le plus court\n",
    "    path = []\n",
    "    s = sfin\n",
    "    while s != sdeb:\n",
    "        path.insert(0, s)\n",
    "        s = pred[s]\n",
    "    path.insert(0, sdeb)\n",
    "    return path\n",
    "\n",
    "\n"
   ]
  },
  {
   "cell_type": "markdown",
   "id": "505890eb",
   "metadata": {},
   "source": [
    "Vérifiez vos résultats en les comparant au plus court chemin fourni par [l'implémentation de l'algorithme de Dijkstra par la librairie Networkx](https://networkx.org/documentation/stable/reference/algorithms/generated/networkx.algorithms.shortest_paths.weighted.dijkstra_path.html) à l'aide du code ci-dessous.\n",
    "\n",
    "Ne touchez pas au code ci-dessous, je m'en servirai pour noter vos travaux."
   ]
  },
  {
   "cell_type": "code",
   "execution_count": 38,
   "id": "5648000f",
   "metadata": {},
   "outputs": [
    {
     "name": "stdout",
     "output_type": "stream",
     "text": [
      "[10, 3, 20]\n",
      "[10, 3, 20]\n",
      "True\n"
     ]
    }
   ],
   "source": [
    "path1 = nx.dijkstra_path(G, sommet1, sommet2)\n",
    "print(path1)\n",
    "path2 = dijkstra(G, sommet1, sommet2)\n",
    "print(path2)\n",
    "print(path1 == path2)"
   ]
  },
  {
   "cell_type": "markdown",
   "id": "1c76c579",
   "metadata": {},
   "source": [
    "L'inconvévient de l'algorithme de Dijkstra est qu'il explore une grande partie du graphe avant de trouver le plus court chemin. C'est à dire qu'en partant d'un sommet source, il va passer en revue beaucoup de sommets avant de trouver le sommet destination. D'autres algorithmes, comme l'[algorithme A*](https://fr.wikipedia.org/wiki/Algorithme_A*) proposent des optimisations permettant d'explorer moins de sommets, et donc de trouver un plus court chemin plus rapidement."
   ]
  },
  {
   "cell_type": "markdown",
   "id": "592609c4",
   "metadata": {},
   "source": [
    "### Étude du temps d'exécution\n",
    "Affichez maintenant le temps d'exécution de votre implémentation de Dijkstra en fonction de la taille d'un graphe $H$ (en nombre de sommets).\n",
    "\n",
    "Vous pouvez générer de nouveaux graphes pour cette question uniquement. Dans le reste de votre projet, vous devez utiliser le graphe $G$ généré au début de ce document.\n",
    "\n",
    "Vous pouvez utiliser la librairie time et/ou datetime pour mesurer des temps d'exécution.\n",
    "\n",
    "Vous pouvez utiliser la librairie matplotlib pour afficher vos résultats. J'ai utilisé plt.plot() pour la figure ci-dessous.\n",
    "\n",
    "J'ai volontairement laissé la figure que j'obtiens avec mon code pour vous donner une idée du résultat attendu.\n"
   ]
  },
  {
   "cell_type": "code",
   "execution_count": 39,
   "id": "10d9afc2",
   "metadata": {},
   "outputs": [
    {
     "data": {
      "image/png": "[encoded data removed]",
      "text/plain": [
       "<Figure size 640x480 with 1 Axes>"
      ]
     },
     "metadata": {},
     "output_type": "display_data"
    }
   ],
   "source": [
    "\n",
    "import time\n",
    "\n",
    "def measure_execution_time(G, sdeb, sfin):\n",
    "    start_time = time.time()\n",
    "    shortest_path = dijkstra(G, sdeb, sfin)\n",
    "    end_time = time.time()\n",
    "    execution_time = end_time - start_time\n",
    "    return execution_time\n",
    "\n",
    "\n",
    "graph_sizes = list(range(1, 4001, 500))\n",
    "\n",
    "\n",
    "execution_times = []\n",
    "\n",
    "\n",
    "for size in graph_sizes:\n",
    "    G = nx.gnp_random_graph(size, 0.6)\n",
    "    sdeb = 0  # Nous choisissons un sommet de départ arbitraire\n",
    "    sfin = size - 1  # Nous choisissons un sommet de fin arbitraire\n",
    "    execution_time = measure_execution_time(G, sdeb, sfin)\n",
    "    execution_times.append(execution_time)\n",
    "   \n",
    "\n",
    "plt.plot(graph_sizes, execution_times)\n",
    "plt.title(\"Temps d'exécution de Dijkstra en fonction de la taille du graphe\")\n",
    "plt.xlabel(\"Taille du graphe (nombre de sommets)\")\n",
    "plt.ylabel(\"Temps d'exécution (secondes)\")\n",
    "plt.grid(True)\n",
    "plt.show()\n",
    "\n",
    "\n"
   ]
  },
  {
   "cell_type": "markdown",
   "id": "b307d93c",
   "metadata": {},
   "source": [
    "Affichez maintenant le temps d'exécution de votre implémentation de Dijkstra en fonction du nombre de plus court chemins demandés (donc en fonction du nombre d'exécutions de Dijkstra), pour le graphe $G$ (généré lors de l'échauffement)."
   ]
  },
  {
   "cell_type": "code",
   "execution_count": 50,
   "id": "259984b0",
   "metadata": {},
   "outputs": [
    {
     "ename": "KeyboardInterrupt",
     "evalue": "",
     "output_type": "error",
     "traceback": [
      "\u001b[1;31m---------------------------------------------------------------------------\u001b[0m",
      "\u001b[1;31mKeyboardInterrupt\u001b[0m                         Traceback (most recent call last)",
      "Cell \u001b[1;32mIn[50], line 16\u001b[0m\n\u001b[0;32m     13\u001b[0m networkx_cumulative_times \u001b[38;5;241m=\u001b[39m []\n\u001b[0;32m     15\u001b[0m \u001b[38;5;28;01mfor\u001b[39;00m num_executions \u001b[38;5;129;01min\u001b[39;00m num_executions_values:\n\u001b[1;32m---> 16\u001b[0m     execution_time \u001b[38;5;241m=\u001b[39m \u001b[43mmeasure_dijkstra_execution_time\u001b[49m\u001b[43m(\u001b[49m\u001b[43mG\u001b[49m\u001b[43m,\u001b[49m\u001b[43m \u001b[49m\u001b[43msommet1\u001b[49m\u001b[43m,\u001b[49m\u001b[43m \u001b[49m\u001b[43msommet2\u001b[49m\u001b[43m,\u001b[49m\u001b[43m \u001b[49m\u001b[43mnum_executions\u001b[49m\u001b[43m)\u001b[49m\n\u001b[0;32m     17\u001b[0m     \u001b[38;5;28;01mif\u001b[39;00m your_cumulative_times:\n\u001b[0;32m     18\u001b[0m         previous_cumulative_time \u001b[38;5;241m=\u001b[39m your_cumulative_times[\u001b[38;5;241m-\u001b[39m\u001b[38;5;241m1\u001b[39m]\n",
      "Cell \u001b[1;32mIn[50], line 5\u001b[0m, in \u001b[0;36mmeasure_dijkstra_execution_time\u001b[1;34m(G, sdeb, sfin, num_executions)\u001b[0m\n\u001b[0;32m      3\u001b[0m \u001b[38;5;28;01mfor\u001b[39;00m _ \u001b[38;5;129;01min\u001b[39;00m \u001b[38;5;28mrange\u001b[39m(num_executions):\n\u001b[0;32m      4\u001b[0m     start_time \u001b[38;5;241m=\u001b[39m time\u001b[38;5;241m.\u001b[39mtime()\n\u001b[1;32m----> 5\u001b[0m     shortest_path \u001b[38;5;241m=\u001b[39m \u001b[43mdijkstra\u001b[49m\u001b[43m(\u001b[49m\u001b[43mG\u001b[49m\u001b[43m,\u001b[49m\u001b[43m \u001b[49m\u001b[43msdeb\u001b[49m\u001b[43m,\u001b[49m\u001b[43m \u001b[49m\u001b[43msfin\u001b[49m\u001b[43m)\u001b[49m\n\u001b[0;32m      6\u001b[0m     end_time \u001b[38;5;241m=\u001b[39m time\u001b[38;5;241m.\u001b[39mtime()\n\u001b[0;32m      7\u001b[0m     total_time \u001b[38;5;241m+\u001b[39m\u001b[38;5;241m=\u001b[39m end_time \u001b[38;5;241m-\u001b[39m start_time\n",
      "Cell \u001b[1;32mIn[37], line 33\u001b[0m, in \u001b[0;36mdijkstra\u001b[1;34m(G, sdeb, sfin)\u001b[0m\n\u001b[0;32m     31\u001b[0m     Q\u001b[38;5;241m.\u001b[39mremove(s1)  \u001b[38;5;66;03m# Retirer s1 de l'ensemble Q\u001b[39;00m\n\u001b[0;32m     32\u001b[0m     \u001b[38;5;28;01mfor\u001b[39;00m s2 \u001b[38;5;129;01min\u001b[39;00m G\u001b[38;5;241m.\u001b[39mneighbors(s1):  \u001b[38;5;66;03m# Pour chaque nœud voisin de s1\u001b[39;00m\n\u001b[1;32m---> 33\u001b[0m         \u001b[43mupdateDist\u001b[49m\u001b[43m(\u001b[49m\u001b[43mG\u001b[49m\u001b[43m,\u001b[49m\u001b[43m \u001b[49m\u001b[43md\u001b[49m\u001b[43m,\u001b[49m\u001b[43m \u001b[49m\u001b[43mpred\u001b[49m\u001b[43m,\u001b[49m\u001b[43m \u001b[49m\u001b[43ms1\u001b[49m\u001b[43m,\u001b[49m\u001b[43m \u001b[49m\u001b[43ms2\u001b[49m\u001b[43m)\u001b[49m  \u001b[38;5;66;03m# Mettre à jour les distances\u001b[39;00m\n\u001b[0;32m     34\u001b[0m \u001b[38;5;66;03m# Reconstruction du chemin le plus court\u001b[39;00m\n\u001b[0;32m     35\u001b[0m path \u001b[38;5;241m=\u001b[39m []\n",
      "Cell \u001b[1;32mIn[37], line 19\u001b[0m, in \u001b[0;36mupdateDist\u001b[1;34m(G, d, pred, s1, s2)\u001b[0m\n\u001b[0;32m     16\u001b[0m             min_node \u001b[38;5;241m=\u001b[39m s\n\u001b[0;32m     17\u001b[0m     \u001b[38;5;28;01mreturn\u001b[39;00m min_node\n\u001b[1;32m---> 19\u001b[0m \u001b[38;5;28;01mdef\u001b[39;00m \u001b[38;5;21mupdateDist\u001b[39m(G, d, pred, s1, s2):\n\u001b[0;32m     20\u001b[0m     \u001b[38;5;28;01mif\u001b[39;00m d[s2] \u001b[38;5;241m>\u001b[39m d[s1] \u001b[38;5;241m+\u001b[39m \u001b[38;5;241m1\u001b[39m:  \u001b[38;5;66;03m# Toutes les arêtes ont un poids de 1\u001b[39;00m\n\u001b[0;32m     21\u001b[0m         d[s2] \u001b[38;5;241m=\u001b[39m d[s1] \u001b[38;5;241m+\u001b[39m \u001b[38;5;241m1\u001b[39m\n",
      "\u001b[1;31mKeyboardInterrupt\u001b[0m: "
     ]
    }
   ],
   "source": [
    "\n",
    "def measure_dijkstra_execution_time(G, sdeb, sfin, num_executions):\n",
    "    total_time = 0\n",
    "    for _ in range(num_executions):\n",
    "        start_time = time.time()\n",
    "        shortest_path = dijkstra(G, sdeb, sfin)\n",
    "        end_time = time.time()\n",
    "        total_time += end_time - start_time\n",
    "    return total_time\n",
    "\n",
    "G = nx.gnp_random_graph(200, 0.6)\n",
    "sommet1 = 10\n",
    "sommet2 = 20\n",
    "\n",
    "\n",
    "num_executions_values = [1, 10, 100, 1000, 10000]\n",
    "your_cumulative_times = []\n",
    "networkx_cumulative_times = []\n",
    "\n",
    "for num_executions in num_executions_values:\n",
    "    execution_time = measure_dijkstra_execution_time(G, sommet1, sommet2, num_executions)\n",
    "    if your_cumulative_times:\n",
    "        previous_cumulative_time = your_cumulative_times[-1]\n",
    "        your_cumulative_times.append(previous_cumulative_time + execution_time)\n",
    "    else:\n",
    "        your_cumulative_times.append(execution_time)\n",
    "\n",
    "        \n",
    "\n",
    "\n",
    "\n",
    "\n",
    "plt.plot(num_executions_values, your_cumulative_times)\n",
    "plt.title(\"Temps d'exécution cumulatif de Dijkstra en fonction du nombre d'exécutions\")\n",
    "plt.xlabel(\"Nombre d'exécutions\")\n",
    "plt.ylabel(\"Temps d'exécution cumulatif (secondes)\")\n",
    "plt.legend()\n",
    "plt.grid(True)\n",
    "plt.show()\n"
   ]
  },
  {
   "cell_type": "markdown",
   "id": "e7d621be",
   "metadata": {},
   "source": [
    "Sans surprise, le temps d'exécution augmente de manière linéaire par rapport au nombre d'exécution de Dijkstra demandé : deux exécutions de Dijkstra prennent environ deux fois plus de temps qu'une seule exécution. Ceci n'est pas vrai pour tous les algorithmes. Certaines approches réalisent une étape de précalcul, qui permet d'économiser du temps lors des futurs exécutions."
   ]
  },
  {
   "cell_type": "markdown",
   "id": "53f96e6f",
   "metadata": {},
   "source": [
    "## Algorithme d'Akiba"
   ]
  },
  {
   "cell_type": "markdown",
   "id": "112323c7",
   "metadata": {},
   "source": [
    "Nous allons maintenant étudier l'[algorithme d'Akiba](https://arxiv.org/pdf/1304.4661.pdf), qui est un algorithme de calcul de distance (longueur d'un plus court chemin) dans des graphes, proposé en 2013 par Akiba *et al*. Cet algorithme réalise d'abord une étape de précalcul, pendant laquelle il ajoute des étiquettes (*labels*) sur les sommets du graphe. Ces étiquettes permettent ensuite de répondre rapidement à des requêtes demandant d'identifier la distance entre deux sommets."
   ]
  },
  {
   "cell_type": "markdown",
   "id": "b6e1ffbe",
   "metadata": {},
   "source": [
    "Plus précisément, cet algorithme :\n",
    "\n",
    "* Calcule pour chaque sommet $u$ de $G$, des étiquettes (pas toutes) de la forme ($v_i$, δ$(u, v_i)$), où δ$(u, v_i)$ représente la distance entre u et $v_i$ dans $G$.\n",
    "* L'ensemble d'étiquettes $L$ est calculé en faisant un parcours en largeur partiel, depuis chaque sommet $u$ de $G$.\n",
    "* Une fois $L$ calculé, la distance entre deux sommets $u$ et $v$ est calculée en faisant `requete(u, v, L)`. Cette fonction consiste simplement à trouver un sommet $z$ tel que :\n",
    "  * ($z$, δ$(u, z)$) et ($z$, δ$(v, z)$) existent, c'est à dire que $z$ est dans les étiquettes de $u$ et de $v$\n",
    "  * $z$ minimise δ$(u, z)$ + δ$(v, z)$, c'est à dire la distance en $u$ et $z$ puis la distance entre $z$ et $v$.\n",
    "\n",
    "L'algorithme d'Akiba ne calcule pas toutes les étiquettes de chacun des sommets, ce serait très couteux en temps et en mémoire. L'algorithme effectue des parcours en largeur partiels, comme suit :\n",
    "\n",
    "* Initialement, l'ensemble d'étiquettes $L_0$ est vide. L'ensemble d'étiquettes $L_k$ est généré lors du $k$ ième parcours en largeur. Lors du $k+1$ ième parcours en largeur, effectué depuis un sommet $u$, l'algorithme ne parcours pas les voisins d'un sommet $v$ (donc dans l'arbre généré par ce parcours, $v$ sera une feuille) quand `requete(u, v, L_k)` est inférieur ou égal à la distance mesurée lors du $k+1$ ième parcours. Autrement dit, on ne parcours pas au dela du sommet $v$, quand on sait déjà qu'il existe un chemin plus court reliant $u$ à $v$.\n",
    "\n",
    "Pour plus de détails, je vous invite à consulter [la publication originale](https://arxiv.org/pdf/1304.4661.pdf) (vous pouvez bien sûr aussi me poser des questions)."
   ]
  },
  {
   "cell_type": "markdown",
   "id": "e081de8b",
   "metadata": {},
   "source": [
    "### Parcours en largeur\n",
    "\n",
    "Commencez par implémenter un parcours en largeur complet d'un graphe $G$, sans l'optimisation mentionée ci-dessus. `BFS(G, u)` doit retourner un dictionnaire $L$ tel que `L[v]` est égal à la distance entre le sommet $u$ et le sommet $v$ dans le graphe $G$, pour tous les sommets $v$ du graphe $G$."
   ]
  },
  {
   "cell_type": "code",
   "execution_count": 41,
   "id": "2218bb9e",
   "metadata": {},
   "outputs": [],
   "source": [
    "import queue\n",
    "\n",
    "def BFS(G, u):\n",
    "    L = {u : 0}\n",
    "    q = queue.Queue()\n",
    "    visited = {u}\n",
    "    q.put([u, 0])\n",
    "    while not q.empty():\n",
    "        [u, dist]= q.get() \n",
    "        for v in G.neighbors(u):\n",
    "            if v not in visited:\n",
    "                visited.add(v)\n",
    "                L[v] = dist + 1\n",
    "                q.put([v, L[v]])\n",
    "    return L\n",
    "\n",
    "### Pour avoir un support visuel, on utilise une version qui retourne L et les arêtes retenues\n",
    "def BFSdraw(G, u):\n",
    "    L = {u : 0}\n",
    "    q = queue.Queue()\n",
    "    visited = {u}\n",
    "    edges = []\n",
    "    q.put([u, 0])\n",
    "    while not q.empty():\n",
    "        [u, dist]= q.get()\n",
    "        for v in G.neighbors(u):\n",
    "            if v not in visited:\n",
    "                visited.add(v)\n",
    "                edges.append((u, v))\n",
    "                L[v] = dist + 1\n",
    "                q.put([v, L[v]])\n",
    "    return L, edges"
   ]
  },
  {
   "cell_type": "code",
   "execution_count": 42,
   "id": "5b8f0403",
   "metadata": {},
   "outputs": [
    {
     "name": "stdout",
     "output_type": "stream",
     "text": [
      "{0: 0, 1: 1, 2: 1, 4: 1, 6: 1, 7: 1, 9: 1, 13: 1, 14: 1, 15: 1, 16: 1, 18: 1, 19: 1, 21: 1, 23: 1, 24: 1, 27: 1, 30: 1, 31: 1, 32: 1, 33: 1, 35: 1, 36: 1, 38: 1, 39: 1, 41: 1, 45: 1, 48: 1, 49: 1, 51: 1, 52: 1, 54: 1, 55: 1, 56: 1, 58: 1, 60: 1, 62: 1, 64: 1, 65: 1, 66: 1, 69: 1, 70: 1, 71: 1, 73: 1, 75: 1, 82: 1, 84: 1, 85: 1, 87: 1, 90: 1, 95: 1, 96: 1, 99: 1, 103: 1, 104: 1, 105: 1, 106: 1, 107: 1, 109: 1, 110: 1, 112: 1, 113: 1, 114: 1, 118: 1, 119: 1, 121: 1, 122: 1, 123: 1, 124: 1, 125: 1, 126: 1, 127: 1, 130: 1, 131: 1, 132: 1, 133: 1, 134: 1, 135: 1, 138: 1, 140: 1, 141: 1, 142: 1, 146: 1, 149: 1, 151: 1, 152: 1, 154: 1, 155: 1, 158: 1, 159: 1, 165: 1, 166: 1, 169: 1, 171: 1, 172: 1, 174: 1, 176: 1, 177: 1, 178: 1, 179: 1, 180: 1, 181: 1, 183: 1, 184: 1, 186: 1, 187: 1, 188: 1, 189: 1, 190: 1, 191: 1, 192: 1, 193: 1, 194: 1, 199: 1, 200: 1, 201: 1, 205: 1, 207: 1, 208: 1, 209: 1, 211: 1, 212: 1, 213: 1, 214: 1, 217: 1, 220: 1, 223: 1, 224: 1, 225: 1, 226: 1, 227: 1, 229: 1, 231: 1, 233: 1, 234: 1, 237: 1, 244: 1, 246: 1, 247: 1, 249: 1, 250: 1, 253: 1, 255: 1, 256: 1, 257: 1, 258: 1, 260: 1, 262: 1, 264: 1, 265: 1, 266: 1, 270: 1, 272: 1, 274: 1, 275: 1, 276: 1, 277: 1, 278: 1, 280: 1, 281: 1, 282: 1, 283: 1, 284: 1, 285: 1, 286: 1, 288: 1, 289: 1, 291: 1, 293: 1, 296: 1, 299: 1, 301: 1, 305: 1, 307: 1, 310: 1, 311: 1, 312: 1, 313: 1, 315: 1, 316: 1, 317: 1, 318: 1, 320: 1, 322: 1, 324: 1, 326: 1, 327: 1, 329: 1, 330: 1, 333: 1, 335: 1, 336: 1, 337: 1, 338: 1, 339: 1, 340: 1, 341: 1, 345: 1, 346: 1, 348: 1, 350: 1, 351: 1, 352: 1, 354: 1, 355: 1, 357: 1, 358: 1, 359: 1, 360: 1, 362: 1, 363: 1, 364: 1, 365: 1, 367: 1, 368: 1, 369: 1, 370: 1, 371: 1, 373: 1, 375: 1, 376: 1, 379: 1, 381: 1, 382: 1, 384: 1, 386: 1, 387: 1, 388: 1, 389: 1, 390: 1, 391: 1, 392: 1, 393: 1, 396: 1, 397: 1, 400: 1, 401: 1, 403: 1, 404: 1, 406: 1, 407: 1, 408: 1, 409: 1, 411: 1, 412: 1, 413: 1, 415: 1, 416: 1, 417: 1, 419: 1, 420: 1, 421: 1, 423: 1, 425: 1, 426: 1, 427: 1, 429: 1, 432: 1, 433: 1, 434: 1, 435: 1, 436: 1, 437: 1, 440: 1, 441: 1, 443: 1, 445: 1, 446: 1, 447: 1, 448: 1, 450: 1, 452: 1, 453: 1, 454: 1, 455: 1, 457: 1, 458: 1, 459: 1, 460: 1, 461: 1, 462: 1, 464: 1, 465: 1, 467: 1, 468: 1, 469: 1, 470: 1, 472: 1, 474: 1, 475: 1, 477: 1, 478: 1, 479: 1, 480: 1, 481: 1, 482: 1, 483: 1, 485: 1, 486: 1, 488: 1, 489: 1, 491: 1, 493: 1, 496: 1, 499: 1, 500: 1, 501: 1, 505: 1, 506: 1, 507: 1, 508: 1, 510: 1, 511: 1, 513: 1, 514: 1, 517: 1, 518: 1, 520: 1, 522: 1, 523: 1, 524: 1, 525: 1, 528: 1, 529: 1, 532: 1, 533: 1, 534: 1, 536: 1, 537: 1, 539: 1, 540: 1, 542: 1, 543: 1, 545: 1, 546: 1, 550: 1, 551: 1, 552: 1, 553: 1, 554: 1, 555: 1, 557: 1, 561: 1, 562: 1, 563: 1, 565: 1, 566: 1, 567: 1, 568: 1, 569: 1, 570: 1, 573: 1, 575: 1, 580: 1, 582: 1, 584: 1, 586: 1, 588: 1, 589: 1, 592: 1, 594: 1, 595: 1, 596: 1, 597: 1, 599: 1, 601: 1, 603: 1, 605: 1, 608: 1, 610: 1, 611: 1, 612: 1, 614: 1, 615: 1, 616: 1, 621: 1, 624: 1, 625: 1, 626: 1, 627: 1, 628: 1, 629: 1, 630: 1, 631: 1, 633: 1, 635: 1, 636: 1, 641: 1, 642: 1, 644: 1, 646: 1, 647: 1, 648: 1, 650: 1, 651: 1, 654: 1, 656: 1, 657: 1, 660: 1, 665: 1, 672: 1, 673: 1, 674: 1, 677: 1, 678: 1, 679: 1, 680: 1, 681: 1, 683: 1, 685: 1, 686: 1, 687: 1, 689: 1, 691: 1, 692: 1, 694: 1, 696: 1, 697: 1, 699: 1, 701: 1, 702: 1, 705: 1, 706: 1, 707: 1, 708: 1, 710: 1, 711: 1, 712: 1, 713: 1, 714: 1, 717: 1, 719: 1, 722: 1, 723: 1, 724: 1, 725: 1, 726: 1, 727: 1, 728: 1, 730: 1, 731: 1, 732: 1, 734: 1, 735: 1, 738: 1, 739: 1, 741: 1, 745: 1, 748: 1, 749: 1, 754: 1, 755: 1, 756: 1, 757: 1, 758: 1, 759: 1, 760: 1, 761: 1, 762: 1, 763: 1, 765: 1, 767: 1, 768: 1, 769: 1, 770: 1, 771: 1, 773: 1, 774: 1, 775: 1, 776: 1, 777: 1, 781: 1, 785: 1, 788: 1, 790: 1, 792: 1, 793: 1, 794: 1, 795: 1, 796: 1, 797: 1, 798: 1, 800: 1, 801: 1, 802: 1, 804: 1, 805: 1, 808: 1, 810: 1, 811: 1, 813: 1, 814: 1, 817: 1, 818: 1, 819: 1, 821: 1, 822: 1, 823: 1, 824: 1, 826: 1, 827: 1, 831: 1, 832: 1, 833: 1, 834: 1, 836: 1, 838: 1, 839: 1, 841: 1, 842: 1, 844: 1, 845: 1, 847: 1, 849: 1, 851: 1, 852: 1, 853: 1, 855: 1, 859: 1, 860: 1, 861: 1, 862: 1, 864: 1, 865: 1, 867: 1, 868: 1, 869: 1, 870: 1, 872: 1, 873: 1, 874: 1, 875: 1, 877: 1, 880: 1, 881: 1, 883: 1, 884: 1, 886: 1, 888: 1, 891: 1, 892: 1, 893: 1, 896: 1, 897: 1, 898: 1, 900: 1, 903: 1, 905: 1, 908: 1, 909: 1, 911: 1, 913: 1, 914: 1, 915: 1, 916: 1, 917: 1, 918: 1, 919: 1, 920: 1, 921: 1, 922: 1, 923: 1, 924: 1, 925: 1, 926: 1, 927: 1, 930: 1, 931: 1, 932: 1, 933: 1, 934: 1, 935: 1, 938: 1, 940: 1, 942: 1, 946: 1, 947: 1, 950: 1, 951: 1, 952: 1, 954: 1, 955: 1, 956: 1, 957: 1, 958: 1, 960: 1, 962: 1, 963: 1, 965: 1, 966: 1, 967: 1, 968: 1, 969: 1, 970: 1, 972: 1, 973: 1, 976: 1, 977: 1, 982: 1, 985: 1, 986: 1, 988: 1, 990: 1, 991: 1, 996: 1, 998: 1, 999: 1, 1003: 1, 1004: 1, 1005: 1, 1008: 1, 1010: 1, 1011: 1, 1015: 1, 1016: 1, 1017: 1, 1020: 1, 1022: 1, 1024: 1, 1025: 1, 1026: 1, 1028: 1, 1031: 1, 1032: 1, 1034: 1, 1035: 1, 1036: 1, 1037: 1, 1040: 1, 1041: 1, 1042: 1, 1043: 1, 1044: 1, 1045: 1, 1046: 1, 1047: 1, 1048: 1, 1050: 1, 1052: 1, 1053: 1, 1054: 1, 1055: 1, 1059: 1, 1060: 1, 1061: 1, 1063: 1, 1064: 1, 1065: 1, 1068: 1, 1070: 1, 1074: 1, 1077: 1, 1078: 1, 1079: 1, 1080: 1, 1084: 1, 1085: 1, 1086: 1, 1088: 1, 1089: 1, 1090: 1, 1092: 1, 1093: 1, 1097: 1, 1099: 1, 1102: 1, 1103: 1, 1108: 1, 1109: 1, 1110: 1, 1111: 1, 1113: 1, 1115: 1, 1119: 1, 1122: 1, 1124: 1, 1126: 1, 1127: 1, 1128: 1, 1130: 1, 1131: 1, 1132: 1, 1133: 1, 1134: 1, 1135: 1, 1136: 1, 1137: 1, 1138: 1, 1140: 1, 1141: 1, 1142: 1, 1143: 1, 1144: 1, 1146: 1, 1147: 1, 1149: 1, 1150: 1, 1152: 1, 1154: 1, 1155: 1, 1157: 1, 1158: 1, 1159: 1, 1160: 1, 1162: 1, 1163: 1, 1165: 1, 1166: 1, 1168: 1, 1169: 1, 1171: 1, 1172: 1, 1173: 1, 1174: 1, 1175: 1, 1177: 1, 1178: 1, 1179: 1, 1181: 1, 1182: 1, 1185: 1, 1186: 1, 1189: 1, 1191: 1, 1192: 1, 1193: 1, 1194: 1, 1198: 1, 1199: 1, 1200: 1, 1204: 1, 1205: 1, 1207: 1, 1209: 1, 1210: 1, 1213: 1, 1215: 1, 1218: 1, 1219: 1, 1224: 1, 1228: 1, 1229: 1, 1230: 1, 1231: 1, 1232: 1, 1233: 1, 1234: 1, 1235: 1, 1236: 1, 1240: 1, 1241: 1, 1242: 1, 1243: 1, 1245: 1, 1246: 1, 1248: 1, 1249: 1, 1250: 1, 1251: 1, 1252: 1, 1253: 1, 1254: 1, 1255: 1, 1256: 1, 1259: 1, 1265: 1, 1267: 1, 1269: 1, 1270: 1, 1271: 1, 1272: 1, 1274: 1, 1275: 1, 1276: 1, 1277: 1, 1278: 1, 1281: 1, 1282: 1, 1283: 1, 1285: 1, 1286: 1, 1287: 1, 1288: 1, 1289: 1, 1291: 1, 1295: 1, 1297: 1, 1298: 1, 1299: 1, 1302: 1, 1304: 1, 1305: 1, 1306: 1, 1308: 1, 1310: 1, 1311: 1, 1313: 1, 1317: 1, 1319: 1, 1321: 1, 1323: 1, 1324: 1, 1325: 1, 1326: 1, 1328: 1, 1330: 1, 1331: 1, 1334: 1, 1335: 1, 1337: 1, 1338: 1, 1340: 1, 1341: 1, 1345: 1, 1346: 1, 1347: 1, 1348: 1, 1350: 1, 1351: 1, 1352: 1, 1353: 1, 1356: 1, 1357: 1, 1359: 1, 1361: 1, 1362: 1, 1363: 1, 1366: 1, 1367: 1, 1368: 1, 1369: 1, 1373: 1, 1375: 1, 1376: 1, 1377: 1, 1378: 1, 1379: 1, 1384: 1, 1385: 1, 1386: 1, 1387: 1, 1388: 1, 1389: 1, 1390: 1, 1391: 1, 1392: 1, 1395: 1, 1396: 1, 1398: 1, 1399: 1, 1402: 1, 1403: 1, 1405: 1, 1406: 1, 1407: 1, 1408: 1, 1409: 1, 1410: 1, 1411: 1, 1412: 1, 1414: 1, 1415: 1, 1417: 1, 1418: 1, 1419: 1, 1420: 1, 1423: 1, 1424: 1, 1426: 1, 1427: 1, 1428: 1, 1429: 1, 1431: 1, 1432: 1, 1435: 1, 1438: 1, 1439: 1, 1440: 1, 1441: 1, 1442: 1, 1443: 1, 1444: 1, 1445: 1, 1446: 1, 1447: 1, 1448: 1, 1449: 1, 1450: 1, 1455: 1, 1459: 1, 1460: 1, 1462: 1, 1463: 1, 1464: 1, 1465: 1, 1467: 1, 1468: 1, 1470: 1, 1471: 1, 1473: 1, 1474: 1, 1475: 1, 1481: 1, 1486: 1, 1489: 1, 1490: 1, 1492: 1, 1493: 1, 1497: 1, 1498: 1, 1500: 1, 1502: 1, 1503: 1, 1506: 1, 1507: 1, 1508: 1, 1509: 1, 1512: 1, 1514: 1, 1516: 1, 1517: 1, 1519: 1, 1521: 1, 1523: 1, 1525: 1, 1526: 1, 1527: 1, 1528: 1, 1529: 1, 1531: 1, 1535: 1, 1536: 1, 1537: 1, 1538: 1, 1539: 1, 1540: 1, 1542: 1, 1546: 1, 1547: 1, 1548: 1, 1551: 1, 1552: 1, 1553: 1, 1556: 1, 1561: 1, 1562: 1, 1563: 1, 1564: 1, 1565: 1, 1568: 1, 1569: 1, 1570: 1, 1571: 1, 1572: 1, 1573: 1, 1575: 1, 1576: 1, 1578: 1, 1580: 1, 1581: 1, 1584: 1, 1585: 1, 1586: 1, 1587: 1, 1588: 1, 1590: 1, 1592: 1, 1593: 1, 1595: 1, 1596: 1, 1600: 1, 1603: 1, 1604: 1, 1608: 1, 1609: 1, 1610: 1, 1611: 1, 1612: 1, 1613: 1, 1615: 1, 1616: 1, 1618: 1, 1620: 1, 1621: 1, 1622: 1, 1623: 1, 1624: 1, 1626: 1, 1631: 1, 1633: 1, 1634: 1, 1635: 1, 1638: 1, 1641: 1, 1642: 1, 1645: 1, 1646: 1, 1652: 1, 1654: 1, 1656: 1, 1657: 1, 1659: 1, 1661: 1, 1662: 1, 1666: 1, 1668: 1, 1669: 1, 1671: 1, 1673: 1, 1674: 1, 1675: 1, 1676: 1, 1679: 1, 1680: 1, 1682: 1, 1683: 1, 1684: 1, 1685: 1, 1688: 1, 1689: 1, 1690: 1, 1693: 1, 1694: 1, 1697: 1, 1699: 1, 1700: 1, 1704: 1, 1705: 1, 1709: 1, 1710: 1, 1711: 1, 1712: 1, 1713: 1, 1715: 1, 1716: 1, 1717: 1, 1719: 1, 1721: 1, 1724: 1, 1725: 1, 1727: 1, 1729: 1, 1730: 1, 1732: 1, 1735: 1, 1736: 1, 1737: 1, 1739: 1, 1740: 1, 1741: 1, 1743: 1, 1745: 1, 1748: 1, 1749: 1, 1752: 1, 1753: 1, 1754: 1, 1756: 1, 1758: 1, 1759: 1, 1760: 1, 1761: 1, 1762: 1, 1764: 1, 1768: 1, 1770: 1, 1771: 1, 1773: 1, 1775: 1, 1776: 1, 1779: 1, 1780: 1, 1781: 1, 1785: 1, 1787: 1, 1788: 1, 1790: 1, 1792: 1, 1793: 1, 1794: 1, 1795: 1, 1798: 1, 1799: 1, 1800: 1, 1801: 1, 1802: 1, 1804: 1, 1805: 1, 1807: 1, 1808: 1, 1812: 1, 1813: 1, 1818: 1, 1819: 1, 1820: 1, 1821: 1, 1822: 1, 1824: 1, 1826: 1, 1827: 1, 1829: 1, 1830: 1, 1832: 1, 1834: 1, 1836: 1, 1839: 1, 1840: 1, 1841: 1, 1842: 1, 1843: 1, 1844: 1, 1845: 1, 1849: 1, 1852: 1, 1853: 1, 1854: 1, 1861: 1, 1864: 1, 1866: 1, 1868: 1, 1870: 1, 1871: 1, 1872: 1, 1873: 1, 1882: 1, 1883: 1, 1884: 1, 1885: 1, 1887: 1, 1889: 1, 1890: 1, 1896: 1, 1897: 1, 1901: 1, 1903: 1, 1904: 1, 1905: 1, 1906: 1, 1911: 1, 1915: 1, 1916: 1, 1919: 1, 1921: 1, 1922: 1, 1925: 1, 1926: 1, 1929: 1, 1931: 1, 1936: 1, 1937: 1, 1940: 1, 1945: 1, 1946: 1, 1947: 1, 1948: 1, 1949: 1, 1950: 1, 1953: 1, 1956: 1, 1957: 1, 1958: 1, 1960: 1, 1962: 1, 1963: 1, 1964: 1, 1965: 1, 1967: 1, 1968: 1, 1969: 1, 1971: 1, 1973: 1, 1974: 1, 1975: 1, 1978: 1, 1979: 1, 1981: 1, 1982: 1, 1983: 1, 1984: 1, 1986: 1, 1987: 1, 1991: 1, 1992: 1, 1994: 1, 1996: 1, 1997: 1, 1998: 1, 1999: 1, 2000: 1, 2001: 1, 2002: 1, 2003: 1, 2005: 1, 2006: 1, 2011: 1, 2012: 1, 2013: 1, 2017: 1, 2019: 1, 2020: 1, 2021: 1, 2023: 1, 2025: 1, 2026: 1, 2027: 1, 2028: 1, 2030: 1, 2032: 1, 2033: 1, 2034: 1, 2036: 1, 2038: 1, 2039: 1, 2040: 1, 2041: 1, 2045: 1, 2046: 1, 2050: 1, 2051: 1, 2052: 1, 2053: 1, 2054: 1, 2056: 1, 2057: 1, 2058: 1, 2059: 1, 2061: 1, 2065: 1, 2066: 1, 2067: 1, 2069: 1, 2071: 1, 2073: 1, 2075: 1, 2076: 1, 2077: 1, 2078: 1, 2081: 1, 2083: 1, 2084: 1, 2087: 1, 2090: 1, 2092: 1, 2093: 1, 2094: 1, 2095: 1, 2097: 1, 2098: 1, 2099: 1, 2101: 1, 2103: 1, 2104: 1, 2107: 1, 2108: 1, 2109: 1, 2112: 1, 2113: 1, 2114: 1, 2119: 1, 2121: 1, 2122: 1, 2124: 1, 2125: 1, 2126: 1, 2128: 1, 2130: 1, 2131: 1, 2132: 1, 2133: 1, 2134: 1, 2136: 1, 2139: 1, 2140: 1, 2141: 1, 2145: 1, 2146: 1, 2148: 1, 2151: 1, 2154: 1, 2155: 1, 2157: 1, 2158: 1, 2159: 1, 2160: 1, 2161: 1, 2162: 1, 2164: 1, 2165: 1, 2169: 1, 2170: 1, 2171: 1, 2172: 1, 2173: 1, 2174: 1, 2175: 1, 2182: 1, 2183: 1, 2184: 1, 2185: 1, 2189: 1, 2190: 1, 2191: 1, 2192: 1, 2193: 1, 2194: 1, 2196: 1, 2199: 1, 2200: 1, 2202: 1, 2206: 1, 2208: 1, 2212: 1, 2213: 1, 2214: 1, 2215: 1, 2216: 1, 2220: 1, 2222: 1, 2223: 1, 2224: 1, 2226: 1, 2228: 1, 2229: 1, 2230: 1, 2231: 1, 2232: 1, 2233: 1, 2234: 1, 2236: 1, 2239: 1, 2243: 1, 2245: 1, 2246: 1, 2247: 1, 2248: 1, 2254: 1, 2255: 1, 2256: 1, 2259: 1, 2261: 1, 2262: 1, 2264: 1, 2266: 1, 2267: 1, 2268: 1, 2269: 1, 2270: 1, 2271: 1, 2274: 1, 2275: 1, 2277: 1, 2278: 1, 2279: 1, 2280: 1, 2283: 1, 2284: 1, 2285: 1, 2286: 1, 2289: 1, 2290: 1, 2294: 1, 2297: 1, 2298: 1, 2301: 1, 2302: 1, 2303: 1, 2305: 1, 2308: 1, 2310: 1, 2311: 1, 2312: 1, 2313: 1, 2314: 1, 2315: 1, 2317: 1, 2319: 1, 2320: 1, 2322: 1, 2324: 1, 2326: 1, 2327: 1, 2330: 1, 2331: 1, 2332: 1, 2335: 1, 2336: 1, 2337: 1, 2338: 1, 2340: 1, 2342: 1, 2344: 1, 2346: 1, 2347: 1, 2348: 1, 2349: 1, 2350: 1, 2353: 1, 2355: 1, 2356: 1, 2358: 1, 2359: 1, 2361: 1, 2363: 1, 2364: 1, 2366: 1, 2368: 1, 2369: 1, 2370: 1, 2372: 1, 2376: 1, 2377: 1, 2378: 1, 2381: 1, 2384: 1, 2386: 1, 2388: 1, 2391: 1, 2395: 1, 2397: 1, 2399: 1, 2400: 1, 2401: 1, 2402: 1, 2405: 1, 2406: 1, 2407: 1, 2408: 1, 2409: 1, 2410: 1, 2411: 1, 2412: 1, 2414: 1, 2415: 1, 2416: 1, 2417: 1, 2420: 1, 2421: 1, 2422: 1, 2424: 1, 2425: 1, 2429: 1, 2433: 1, 2435: 1, 2436: 1, 2438: 1, 2439: 1, 2440: 1, 2444: 1, 2449: 1, 2451: 1, 2452: 1, 2453: 1, 2456: 1, 2457: 1, 2460: 1, 2461: 1, 2462: 1, 2464: 1, 2465: 1, 2466: 1, 2469: 1, 2472: 1, 2476: 1, 2477: 1, 2478: 1, 2479: 1, 2480: 1, 2481: 1, 2482: 1, 2483: 1, 2485: 1, 2487: 1, 2488: 1, 2489: 1, 2490: 1, 2491: 1, 2493: 1, 2496: 1, 2498: 1, 2500: 1, 2503: 1, 2504: 1, 2506: 1, 2508: 1, 2509: 1, 2510: 1, 2512: 1, 2514: 1, 2515: 1, 2517: 1, 2518: 1, 2519: 1, 2520: 1, 2521: 1, 2522: 1, 2524: 1, 2527: 1, 2528: 1, 2530: 1, 2532: 1, 2533: 1, 2534: 1, 2535: 1, 2536: 1, 2540: 1, 2541: 1, 2543: 1, 2544: 1, 2545: 1, 2548: 1, 2549: 1, 2550: 1, 2551: 1, 2553: 1, 2554: 1, 2555: 1, 2556: 1, 2558: 1, 2560: 1, 2561: 1, 2563: 1, 2564: 1, 2566: 1, 2569: 1, 2572: 1, 2573: 1, 2574: 1, 2576: 1, 2578: 1, 2579: 1, 2580: 1, 2585: 1, 2588: 1, 2589: 1, 2590: 1, 2592: 1, 2593: 1, 2594: 1, 2596: 1, 2597: 1, 2600: 1, 2601: 1, 2602: 1, 2603: 1, 2604: 1, 2605: 1, 2608: 1, 2609: 1, 2610: 1, 2612: 1, 2613: 1, 2615: 1, 2616: 1, 2617: 1, 2618: 1, 2621: 1, 2622: 1, 2623: 1, 2625: 1, 2626: 1, 2627: 1, 2628: 1, 2632: 1, 2633: 1, 2634: 1, 2635: 1, 2636: 1, 2637: 1, 2638: 1, 2639: 1, 2640: 1, 2642: 1, 2644: 1, 2645: 1, 2648: 1, 2649: 1, 2650: 1, 2651: 1, 2652: 1, 2655: 1, 2656: 1, 2658: 1, 2661: 1, 2662: 1, 2663: 1, 2665: 1, 2667: 1, 2668: 1, 2670: 1, 2672: 1, 2674: 1, 2675: 1, 2676: 1, 2678: 1, 2681: 1, 2682: 1, 2685: 1, 2687: 1, 2689: 1, 2690: 1, 2691: 1, 2692: 1, 2693: 1, 2695: 1, 2696: 1, 2700: 1, 2702: 1, 2703: 1, 2704: 1, 2705: 1, 2709: 1, 2711: 1, 2713: 1, 2714: 1, 2717: 1, 2718: 1, 2720: 1, 2721: 1, 2722: 1, 2723: 1, 2724: 1, 2725: 1, 2726: 1, 2727: 1, 2730: 1, 2731: 1, 2732: 1, 2734: 1, 2735: 1, 2739: 1, 2740: 1, 2741: 1, 2742: 1, 2743: 1, 2744: 1, 2745: 1, 2746: 1, 2748: 1, 2750: 1, 2751: 1, 2752: 1, 2754: 1, 2755: 1, 2756: 1, 2757: 1, 2758: 1, 2760: 1, 2761: 1, 2762: 1, 2763: 1, 2764: 1, 2765: 1, 2766: 1, 2768: 1, 2769: 1, 2770: 1, 2772: 1, 2773: 1, 2774: 1, 2776: 1, 2777: 1, 2779: 1, 2780: 1, 2781: 1, 2782: 1, 2783: 1, 2784: 1, 2785: 1, 2786: 1, 2787: 1, 2788: 1, 2789: 1, 2790: 1, 2792: 1, 2793: 1, 2796: 1, 2799: 1, 2801: 1, 2802: 1, 2804: 1, 2808: 1, 2809: 1, 2811: 1, 2812: 1, 2813: 1, 2816: 1, 2817: 1, 2818: 1, 2820: 1, 2821: 1, 2824: 1, 2825: 1, 2828: 1, 2829: 1, 2830: 1, 2832: 1, 2833: 1, 2834: 1, 2835: 1, 2836: 1, 2838: 1, 2839: 1, 2841: 1, 2842: 1, 2843: 1, 2844: 1, 2845: 1, 2848: 1, 2849: 1, 2852: 1, 2853: 1, 2854: 1, 2855: 1, 2856: 1, 2858: 1, 2859: 1, 2860: 1, 2861: 1, 2864: 1, 2866: 1, 2867: 1, 2868: 1, 2870: 1, 2873: 1, 2874: 1, 2875: 1, 2876: 1, 2878: 1, 2881: 1, 2882: 1, 2883: 1, 2884: 1, 2885: 1, 2886: 1, 2888: 1, 2893: 1, 2895: 1, 2898: 1, 2901: 1, 2904: 1, 2905: 1, 2909: 1, 2910: 1, 2912: 1, 2917: 1, 2920: 1, 2921: 1, 2924: 1, 2925: 1, 2926: 1, 2928: 1, 2933: 1, 2934: 1, 2935: 1, 2936: 1, 2937: 1, 2938: 1, 2941: 1, 2944: 1, 2946: 1, 2947: 1, 2948: 1, 2950: 1, 2953: 1, 2956: 1, 2958: 1, 2959: 1, 2963: 1, 2964: 1, 2965: 1, 2966: 1, 2969: 1, 2970: 1, 2971: 1, 2972: 1, 2974: 1, 2975: 1, 2976: 1, 2977: 1, 2978: 1, 2979: 1, 2981: 1, 2984: 1, 2985: 1, 2987: 1, 2989: 1, 2991: 1, 2992: 1, 2993: 1, 2995: 1, 2997: 1, 2998: 1, 2999: 1, 3000: 1, 3003: 1, 3004: 1, 3005: 1, 3007: 1, 3008: 1, 3009: 1, 3010: 1, 3014: 1, 3015: 1, 3016: 1, 3017: 1, 3019: 1, 3022: 1, 3025: 1, 3026: 1, 3028: 1, 3029: 1, 3030: 1, 3031: 1, 3032: 1, 3036: 1, 3037: 1, 3039: 1, 3040: 1, 3041: 1, 3043: 1, 3045: 1, 3046: 1, 3047: 1, 3049: 1, 3050: 1, 3052: 1, 3054: 1, 3055: 1, 3056: 1, 3059: 1, 3060: 1, 3062: 1, 3063: 1, 3067: 1, 3068: 1, 3069: 1, 3070: 1, 3074: 1, 3075: 1, 3076: 1, 3077: 1, 3080: 1, 3081: 1, 3082: 1, 3083: 1, 3085: 1, 3088: 1, 3089: 1, 3091: 1, 3093: 1, 3094: 1, 3096: 1, 3097: 1, 3102: 1, 3103: 1, 3104: 1, 3105: 1, 3110: 1, 3111: 1, 3112: 1, 3113: 1, 3114: 1, 3115: 1, 3122: 1, 3123: 1, 3124: 1, 3125: 1, 3128: 1, 3133: 1, 3134: 1, 3135: 1, 3136: 1, 3137: 1, 3138: 1, 3139: 1, 3140: 1, 3143: 1, 3144: 1, 3146: 1, 3150: 1, 3152: 1, 3153: 1, 3155: 1, 3162: 1, 3163: 1, 3165: 1, 3166: 1, 3170: 1, 3176: 1, 3178: 1, 3179: 1, 3181: 1, 3184: 1, 3185: 1, 3186: 1, 3188: 1, 3190: 1, 3191: 1, 3192: 1, 3193: 1, 3195: 1, 3196: 1, 3197: 1, 3198: 1, 3199: 1, 3200: 1, 3202: 1, 3203: 1, 3204: 1, 3205: 1, 3206: 1, 3207: 1, 3213: 1, 3214: 1, 3215: 1, 3216: 1, 3217: 1, 3218: 1, 3219: 1, 3221: 1, 3224: 1, 3225: 1, 3227: 1, 3228: 1, 3229: 1, 3230: 1, 3233: 1, 3234: 1, 3237: 1, 3239: 1, 3241: 1, 3242: 1, 3243: 1, 3244: 1, 3245: 1, 3246: 1, 3247: 1, 3249: 1, 3250: 1, 3254: 1, 3255: 1, 3256: 1, 3257: 1, 3258: 1, 3259: 1, 3261: 1, 3264: 1, 3265: 1, 3267: 1, 3268: 1, 3269: 1, 3271: 1, 3272: 1, 3273: 1, 3274: 1, 3277: 1, 3282: 1, 3283: 1, 3285: 1, 3286: 1, 3287: 1, 3289: 1, 3291: 1, 3292: 1, 3295: 1, 3298: 1, 3299: 1, 3300: 1, 3301: 1, 3302: 1, 3305: 1, 3307: 1, 3310: 1, 3312: 1, 3313: 1, 3318: 1, 3319: 1, 3320: 1, 3321: 1, 3322: 1, 3324: 1, 3325: 1, 3328: 1, 3329: 1, 3332: 1, 3333: 1, 3334: 1, 3335: 1, 3336: 1, 3340: 1, 3341: 1, 3342: 1, 3343: 1, 3344: 1, 3346: 1, 3348: 1, 3351: 1, 3352: 1, 3353: 1, 3359: 1, 3360: 1, 3361: 1, 3363: 1, 3364: 1, 3365: 1, 3368: 1, 3369: 1, 3370: 1, 3373: 1, 3375: 1, 3376: 1, 3378: 1, 3380: 1, 3382: 1, 3383: 1, 3384: 1, 3385: 1, 3387: 1, 3389: 1, 3390: 1, 3391: 1, 3395: 1, 3396: 1, 3397: 1, 3399: 1, 3401: 1, 3402: 1, 3406: 1, 3409: 1, 3410: 1, 3411: 1, 3412: 1, 3413: 1, 3415: 1, 3416: 1, 3419: 1, 3420: 1, 3424: 1, 3426: 1, 3427: 1, 3428: 1, 3434: 1, 3435: 1, 3436: 1, 3437: 1, 3438: 1, 3441: 1, 3442: 1, 3444: 1, 3445: 1, 3446: 1, 3447: 1, 3448: 1, 3449: 1, 3451: 1, 3453: 1, 3457: 1, 3458: 1, 3459: 1, 3460: 1, 3462: 1, 3463: 1, 3467: 1, 3468: 1, 3469: 1, 3470: 1, 3472: 1, 3475: 1, 3476: 1, 3477: 1, 3478: 1, 3479: 1, 3482: 1, 3483: 1, 3485: 1, 3487: 1, 3488: 1, 3490: 1, 3492: 1, 3493: 1, 3496: 1, 3497: 1, 3498: 1, 3499: 1, 3500: 1, 5: 2, 10: 2, 12: 2, 20: 2, 22: 2, 28: 2, 29: 2, 34: 2, 37: 2, 40: 2, 42: 2, 43: 2, 46: 2, 47: 2, 59: 2, 61: 2, 67: 2, 72: 2, 74: 2, 76: 2, 77: 2, 78: 2, 80: 2, 81: 2, 83: 2, 86: 2, 88: 2, 91: 2, 92: 2, 94: 2, 98: 2, 100: 2, 102: 2, 108: 2, 111: 2, 117: 2, 129: 2, 136: 2, 144: 2, 145: 2, 148: 2, 150: 2, 153: 2, 156: 2, 160: 2, 161: 2, 163: 2, 167: 2, 168: 2, 175: 2, 185: 2, 204: 2, 206: 2, 215: 2, 216: 2, 218: 2, 222: 2, 228: 2, 230: 2, 236: 2, 238: 2, 240: 2, 243: 2, 245: 2, 252: 2, 254: 2, 259: 2, 267: 2, 271: 2, 279: 2, 287: 2, 290: 2, 300: 2, 303: 2, 304: 2, 309: 2, 314: 2, 321: 2, 325: 2, 331: 2, 342: 2, 343: 2, 344: 2, 347: 2, 349: 2, 353: 2, 361: 2, 372: 2, 374: 2, 378: 2, 383: 2, 385: 2, 394: 2, 395: 2, 398: 2, 399: 2, 402: 2, 405: 2, 418: 2, 431: 2, 438: 2, 439: 2, 449: 2, 451: 2, 466: 2, 471: 2, 484: 2, 490: 2, 494: 2, 495: 2, 497: 2, 502: 2, 504: 2, 516: 2, 519: 2, 530: 2, 531: 2, 538: 2, 541: 2, 547: 2, 549: 2, 556: 2, 558: 2, 559: 2, 564: 2, 571: 2, 572: 2, 574: 2, 576: 2, 577: 2, 578: 2, 579: 2, 581: 2, 585: 2, 587: 2, 590: 2, 598: 2, 600: 2, 602: 2, 604: 2, 607: 2, 617: 2, 620: 2, 622: 2, 623: 2, 634: 2, 637: 2, 643: 2, 645: 2, 649: 2, 652: 2, 659: 2, 661: 2, 662: 2, 663: 2, 667: 2, 670: 2, 671: 2, 675: 2, 684: 2, 688: 2, 693: 2, 695: 2, 700: 2, 704: 2, 709: 2, 715: 2, 718: 2, 720: 2, 721: 2, 729: 2, 733: 2, 737: 2, 742: 2, 743: 2, 744: 2, 751: 2, 752: 2, 766: 2, 778: 2, 780: 2, 782: 2, 783: 2, 787: 2, 799: 2, 807: 2, 809: 2, 816: 2, 829: 2, 830: 2, 837: 2, 848: 2, 850: 2, 854: 2, 856: 2, 858: 2, 863: 2, 871: 2, 876: 2, 882: 2, 885: 2, 889: 2, 890: 2, 895: 2, 901: 2, 904: 2, 910: 2, 912: 2, 929: 2, 936: 2, 937: 2, 939: 2, 941: 2, 945: 2, 949: 2, 953: 2, 964: 2, 971: 2, 974: 2, 975: 2, 979: 2, 980: 2, 983: 2, 984: 2, 989: 2, 992: 2, 993: 2, 997: 2, 1000: 2, 1002: 2, 1007: 2, 1012: 2, 1013: 2, 1014: 2, 1019: 2, 1023: 2, 1029: 2, 1030: 2, 1038: 2, 1057: 2, 1058: 2, 1062: 2, 1067: 2, 1075: 2, 1076: 2, 1081: 2, 1082: 2, 1083: 2, 1087: 2, 1091: 2, 1094: 2, 1101: 2, 1104: 2, 1105: 2, 1107: 2, 1118: 2, 1121: 2, 1123: 2, 1145: 2, 1148: 2, 1151: 2, 1167: 2, 1176: 2, 1180: 2, 1183: 2, 1184: 2, 1187: 2, 1188: 2, 1190: 2, 1196: 2, 1197: 2, 1201: 2, 1203: 2, 1208: 2, 1211: 2, 1212: 2, 1214: 2, 1216: 2, 1217: 2, 1220: 2, 1221: 2, 1222: 2, 1226: 2, 1237: 2, 1238: 2, 1239: 2, 1247: 2, 1257: 2, 1260: 2, 1263: 2, 1266: 2, 1268: 2, 1273: 2, 1279: 2, 1290: 2, 1292: 2, 1296: 2, 1301: 2, 1303: 2, 1307: 2, 1309: 2, 1312: 2, 1314: 2, 1316: 2, 1318: 2, 1320: 2, 1327: 2, 1332: 2, 1333: 2, 1339: 2, 1342: 2, 1343: 2, 1349: 2, 1354: 2, 1360: 2, 1364: 2, 1370: 2, 1371: 2, 1372: 2, 1374: 2, 1380: 2, 1382: 2, 1394: 2, 1397: 2, 1400: 2, 1401: 2, 1404: 2, 1416: 2, 1422: 2, 1425: 2, 1430: 2, 1433: 2, 1436: 2, 1451: 2, 1452: 2, 1453: 2, 1457: 2, 1461: 2, 1469: 2, 1472: 2, 1479: 2, 1484: 2, 1485: 2, 1491: 2, 1494: 2, 1495: 2, 1496: 2, 1499: 2, 1501: 2, 1505: 2, 1510: 2, 1511: 2, 1513: 2, 1515: 2, 1520: 2, 1524: 2, 1533: 2, 1534: 2, 1545: 2, 1549: 2, 1554: 2, 1555: 2, 1558: 2, 1560: 2, 1567: 2, 1574: 2, 1577: 2, 1589: 2, 1594: 2, 1598: 2, 1599: 2, 1602: 2, 1605: 2, 1606: 2, 1625: 2, 1630: 2, 1632: 2, 1637: 2, 1639: 2, 1643: 2, 1648: 2, 1649: 2, 1651: 2, 1653: 2, 1658: 2, 1664: 2, 1665: 2, 1667: 2, 1672: 2, 1677: 2, 1687: 2, 1691: 2, 1695: 2, 1701: 2, 1702: 2, 1703: 2, 1707: 2, 1714: 2, 1718: 2, 1722: 2, 1723: 2, 1726: 2, 1728: 2, 1747: 2, 1750: 2, 1755: 2, 1757: 2, 1763: 2, 1774: 2, 1777: 2, 1783: 2, 1786: 2, 1789: 2, 1791: 2, 1796: 2, 1806: 2, 1809: 2, 1811: 2, 1817: 2, 1823: 2, 1825: 2, 1828: 2, 1837: 2, 1838: 2, 1846: 2, 1847: 2, 1848: 2, 1850: 2, 1855: 2, 1856: 2, 1858: 2, 1859: 2, 1860: 2, 1862: 2, 1865: 2, 1867: 2, 1874: 2, 1875: 2, 1879: 2, 1881: 2, 1886: 2, 1888: 2, 1892: 2, 1893: 2, 1899: 2, 1900: 2, 1902: 2, 1908: 2, 1909: 2, 1913: 2, 1914: 2, 1920: 2, 1923: 2, 1927: 2, 1930: 2, 1938: 2, 1939: 2, 1941: 2, 1951: 2, 1952: 2, 1954: 2, 1955: 2, 1970: 2, 1977: 2, 1980: 2, 1985: 2, 1989: 2, 1990: 2, 1995: 2, 2004: 2, 2007: 2, 2008: 2, 2010: 2, 2015: 2, 2022: 2, 2024: 2, 2029: 2, 2031: 2, 2035: 2, 2037: 2, 2042: 2, 2048: 2, 2060: 2, 2063: 2, 2070: 2, 2072: 2, 2074: 2, 2079: 2, 2082: 2, 2085: 2, 2086: 2, 2088: 2, 2091: 2, 2096: 2, 2100: 2, 2105: 2, 2106: 2, 2110: 2, 2111: 2, 2116: 2, 2117: 2, 2123: 2, 2129: 2, 2135: 2, 2137: 2, 2143: 2, 2144: 2, 2149: 2, 2150: 2, 2152: 2, 2156: 2, 2163: 2, 2166: 2, 2167: 2, 2176: 2, 2177: 2, 2178: 2, 2181: 2, 2187: 2, 2197: 2, 2198: 2, 2205: 2, 2209: 2, 2211: 2, 2217: 2, 2218: 2, 2221: 2, 2235: 2, 2238: 2, 2240: 2, 2241: 2, 2242: 2, 2249: 2, 2250: 2, 2252: 2, 2253: 2, 2257: 2, 2260: 2, 2265: 2, 2272: 2, 2281: 2, 2295: 2, 2296: 2, 2299: 2, 2309: 2, 2316: 2, 2323: 2, 2325: 2, 2333: 2, 2339: 2, 2341: 2, 2343: 2, 2351: 2, 2352: 2, 2354: 2, 2357: 2, 2362: 2, 2365: 2, 2371: 2, 2373: 2, 2375: 2, 2379: 2, 2380: 2, 2383: 2, 2385: 2, 2389: 2, 2390: 2, 2392: 2, 2394: 2, 2396: 2, 2413: 2, 2418: 2, 2419: 2, 2423: 2, 2427: 2, 2428: 2, 2432: 2, 2441: 2, 2443: 2, 2445: 2, 2448: 2, 2458: 2, 2459: 2, 2463: 2, 2467: 2, 2473: 2, 2474: 2, 2475: 2, 2486: 2, 2492: 2, 2494: 2, 2495: 2, 2499: 2, 2501: 2, 2502: 2, 2516: 2, 2523: 2, 2525: 2, 2526: 2, 2531: 2, 2538: 2, 2539: 2, 2547: 2, 2557: 2, 2562: 2, 2565: 2, 2567: 2, 2570: 2, 2577: 2, 2581: 2, 2582: 2, 2586: 2, 2587: 2, 2591: 2, 2595: 2, 2606: 2, 2607: 2, 2614: 2, 2619: 2, 2624: 2, 2629: 2, 2631: 2, 2641: 2, 2653: 2, 2654: 2, 2657: 2, 2659: 2, 2660: 2, 2666: 2, 2669: 2, 2673: 2, 2677: 2, 2680: 2, 2686: 2, 2688: 2, 2694: 2, 2697: 2, 2701: 2, 2708: 2, 2710: 2, 2712: 2, 2715: 2, 2737: 2, 2747: 2, 2749: 2, 2753: 2, 2767: 2, 2775: 2, 2778: 2, 2797: 2, 2798: 2, 2800: 2, 2805: 2, 2807: 2, 2819: 2, 2823: 2, 2831: 2, 2837: 2, 2846: 2, 2847: 2, 2851: 2, 2857: 2, 2862: 2, 2863: 2, 2865: 2, 2869: 2, 2871: 2, 2872: 2, 2877: 2, 2887: 2, 2889: 2, 2890: 2, 2891: 2, 2892: 2, 2896: 2, 2897: 2, 2899: 2, 2902: 2, 2906: 2, 2908: 2, 2916: 2, 2918: 2, 2923: 2, 2927: 2, 2929: 2, 2939: 2, 2940: 2, 2942: 2, 2943: 2, 2945: 2, 2949: 2, 2951: 2, 2952: 2, 2955: 2, 2960: 2, 2962: 2, 2967: 2, 2968: 2, 2982: 2, 2990: 2, 2994: 2, 2996: 2, 3002: 2, 3006: 2, 3011: 2, 3012: 2, 3018: 2, 3023: 2, 3024: 2, 3027: 2, 3033: 2, 3034: 2, 3035: 2, 3038: 2, 3048: 2, 3053: 2, 3057: 2, 3061: 2, 3064: 2, 3065: 2, 3073: 2, 3079: 2, 3084: 2, 3086: 2, 3087: 2, 3090: 2, 3095: 2, 3098: 2, 3099: 2, 3100: 2, 3101: 2, 3106: 2, 3109: 2, 3116: 2, 3118: 2, 3119: 2, 3120: 2, 3121: 2, 3126: 2, 3127: 2, 3129: 2, 3130: 2, 3132: 2, 3141: 2, 3142: 2, 3147: 2, 3148: 2, 3149: 2, 3151: 2, 3157: 2, 3158: 2, 3159: 2, 3160: 2, 3161: 2, 3167: 2, 3168: 2, 3169: 2, 3171: 2, 3175: 2, 3177: 2, 3180: 2, 3182: 2, 3187: 2, 3189: 2, 3201: 2, 3208: 2, 3210: 2, 3220: 2, 3222: 2, 3223: 2, 3231: 2, 3232: 2, 3235: 2, 3238: 2, 3240: 2, 3248: 2, 3251: 2, 3260: 2, 3262: 2, 3263: 2, 3266: 2, 3270: 2, 3275: 2, 3276: 2, 3279: 2, 3288: 2, 3290: 2, 3294: 2, 3297: 2, 3303: 2, 3304: 2, 3306: 2, 3309: 2, 3311: 2, 3314: 2, 3315: 2, 3316: 2, 3326: 2, 3327: 2, 3331: 2, 3337: 2, 3338: 2, 3339: 2, 3347: 2, 3350: 2, 3354: 2, 3355: 2, 3356: 2, 3358: 2, 3366: 2, 3372: 2, 3374: 2, 3377: 2, 3379: 2, 3381: 2, 3386: 2, 3398: 2, 3400: 2, 3403: 2, 3404: 2, 3407: 2, 3408: 2, 3417: 2, 3422: 2, 3423: 2, 3430: 2, 3431: 2, 3433: 2, 3443: 2, 3450: 2, 3452: 2, 3454: 2, 3455: 2, 3461: 2, 3464: 2, 3465: 2, 3466: 2, 3471: 2, 3473: 2, 3474: 2, 3484: 2, 3486: 2, 3489: 2, 3491: 2, 3494: 2, 3495: 2, 26: 2, 50: 2, 63: 2, 93: 2, 101: 2, 115: 2, 116: 2, 120: 2, 128: 2, 137: 2, 139: 2, 143: 2, 147: 2, 157: 2, 164: 2, 173: 2, 182: 2, 195: 2, 196: 2, 198: 2, 202: 2, 203: 2, 239: 2, 241: 2, 242: 2, 261: 2, 269: 2, 292: 2, 294: 2, 295: 2, 297: 2, 298: 2, 302: 2, 308: 2, 323: 2, 328: 2, 334: 2, 366: 2, 377: 2, 380: 2, 410: 2, 414: 2, 422: 2, 424: 2, 430: 2, 442: 2, 444: 2, 456: 2, 463: 2, 473: 2, 487: 2, 515: 2, 521: 2, 526: 2, 535: 2, 544: 2, 548: 2, 560: 2, 583: 2, 591: 2, 593: 2, 609: 2, 618: 2, 619: 2, 632: 2, 638: 2, 639: 2, 653: 2, 655: 2, 666: 2, 668: 2, 669: 2, 676: 2, 682: 2, 690: 2, 698: 2, 736: 2, 740: 2, 746: 2, 747: 2, 750: 2, 753: 2, 764: 2, 772: 2, 789: 2, 791: 2, 806: 2, 820: 2, 825: 2, 828: 2, 835: 2, 843: 2, 878: 2, 902: 2, 906: 2, 928: 2, 943: 2, 944: 2, 948: 2, 959: 2, 981: 2, 987: 2, 994: 2, 995: 2, 1001: 2, 1009: 2, 1018: 2, 1021: 2, 1049: 2, 1066: 2, 1071: 2, 1072: 2, 1073: 2, 1095: 2, 1096: 2, 1098: 2, 1100: 2, 1106: 2, 1114: 2, 1117: 2, 1120: 2, 1125: 2, 1129: 2, 1153: 2, 1156: 2, 1161: 2, 1164: 2, 1170: 2, 1195: 2, 1206: 2, 1223: 2, 1227: 2, 1244: 2, 1262: 2, 1264: 2, 1284: 2, 1294: 2, 1300: 2, 1344: 2, 1358: 2, 1383: 2, 1393: 2, 1413: 2, 1421: 2, 1434: 2, 1437: 2, 1476: 2, 1478: 2, 1480: 2, 1483: 2, 1488: 2, 1518: 2, 1530: 2, 1532: 2, 1543: 2, 1550: 2, 1582: 2, 1583: 2, 1597: 2, 1607: 2, 1617: 2, 1628: 2, 1636: 2, 1640: 2, 1644: 2, 1647: 2, 1650: 2, 1655: 2, 1660: 2, 1663: 2, 1670: 2, 1681: 2, 1686: 2, 1692: 2, 1706: 2, 1720: 2, 1733: 2, 1734: 2, 1744: 2, 1746: 2, 1751: 2, 1769: 2, 1772: 2, 1782: 2, 1803: 2, 1814: 2, 1816: 2, 1831: 2, 1833: 2, 1869: 2, 1878: 2, 1880: 2, 1891: 2, 1895: 2, 1898: 2, 1910: 2, 1917: 2, 1924: 2, 1928: 2, 1934: 2, 1935: 2, 1943: 2, 1944: 2, 1959: 2, 1966: 2, 1988: 2, 1993: 2, 2009: 2, 2016: 2, 2044: 2, 2047: 2, 2049: 2, 2080: 2, 2089: 2, 2118: 2, 2120: 2, 2179: 2, 2195: 2, 2203: 2, 2204: 2, 2207: 2, 2219: 2, 2237: 2, 2244: 2, 2258: 2, 2288: 2, 2291: 2, 2293: 2, 2307: 2, 2318: 2, 2321: 2, 2329: 2, 2334: 2, 2345: 2, 2360: 2, 2374: 2, 2382: 2, 2393: 2, 2403: 2, 2404: 2, 2426: 2, 2431: 2, 2434: 2, 2437: 2, 2446: 2, 2447: 2, 2450: 2, 2455: 2, 2470: 2, 2471: 2, 2497: 2, 2507: 2, 2511: 2, 2513: 2, 2529: 2, 2537: 2, 2542: 2, 2546: 2, 2552: 2, 2575: 2, 2583: 2, 2584: 2, 2598: 2, 2599: 2, 2611: 2, 2620: 2, 2647: 2, 2683: 2, 2684: 2, 2707: 2, 2719: 2, 2728: 2, 2729: 2, 2738: 2, 2759: 2, 2771: 2, 2803: 2, 2806: 2, 2810: 2, 2814: 2, 2815: 2, 2822: 2, 2850: 2, 2880: 2, 2894: 2, 2900: 2, 2903: 2, 2911: 2, 2913: 2, 2915: 2, 2919: 2, 2957: 2, 2961: 2, 2973: 2, 2980: 2, 2983: 2, 2988: 2, 3001: 2, 3013: 2, 3020: 2, 3044: 2, 3058: 2, 3071: 2, 3108: 2, 3117: 2, 3131: 2, 3154: 2, 3156: 2, 3172: 2, 3173: 2, 3174: 2, 3183: 2, 3209: 2, 3212: 2, 3252: 2, 3253: 2, 3278: 2, 3281: 2, 3296: 2, 3317: 2, 3323: 2, 3349: 2, 3362: 2, 3371: 2, 3392: 2, 3393: 2, 3394: 2, 3421: 2, 3425: 2, 3429: 2, 3432: 2, 3440: 2, 3456: 2, 3481: 2, 8: 2, 11: 2, 17: 2, 44: 2, 53: 2, 57: 2, 68: 2, 89: 2, 97: 2, 162: 2, 170: 2, 197: 2, 221: 2, 235: 2, 248: 2, 251: 2, 273: 2, 319: 2, 356: 2, 428: 2, 476: 2, 492: 2, 498: 2, 509: 2, 512: 2, 606: 2, 613: 2, 658: 2, 664: 2, 716: 2, 779: 2, 784: 2, 786: 2, 803: 2, 812: 2, 840: 2, 894: 2, 899: 2, 907: 2, 961: 2, 978: 2, 1006: 2, 1027: 2, 1033: 2, 1051: 2, 1056: 2, 1069: 2, 1112: 2, 1116: 2, 1202: 2, 1225: 2, 1258: 2, 1261: 2, 1315: 2, 1329: 2, 1454: 2, 1456: 2, 1487: 2, 1504: 2, 1541: 2, 1544: 2, 1559: 2, 1579: 2, 1591: 2, 1601: 2, 1614: 2, 1627: 2, 1629: 2, 1678: 2, 1696: 2, 1731: 2, 1738: 2, 1784: 2, 1797: 2, 1835: 2, 1851: 2, 1857: 2, 1876: 2, 1894: 2, 1907: 2, 1918: 2, 1932: 2, 1933: 2, 1942: 2, 1972: 2, 2043: 2, 2055: 2, 2115: 2, 2127: 2, 2138: 2, 2147: 2, 2168: 2, 2180: 2, 2188: 2, 2201: 2, 2225: 2, 2251: 2, 2263: 2, 2273: 2, 2276: 2, 2282: 2, 2287: 2, 2292: 2, 2300: 2, 2306: 2, 2367: 2, 2387: 2, 2398: 2, 2430: 2, 2442: 2, 2454: 2, 2468: 2, 2484: 2, 2568: 2, 2571: 2, 2630: 2, 2646: 2, 2664: 2, 2671: 2, 2699: 2, 2733: 2, 2736: 2, 2794: 2, 2795: 2, 2840: 2, 2907: 2, 2914: 2, 2931: 2, 2932: 2, 3021: 2, 3042: 2, 3051: 2, 3066: 2, 3078: 2, 3092: 2, 3145: 2, 3164: 2, 3194: 2, 3211: 2, 3226: 2, 3236: 2, 3284: 2, 3293: 2, 3308: 2, 3330: 2, 3367: 2, 3388: 2, 3414: 2, 3418: 2, 3439: 2, 3480: 2, 79: 2, 210: 2, 219: 2, 268: 2, 503: 2, 640: 2, 703: 2, 846: 2, 866: 2, 879: 2, 887: 2, 1039: 2, 1139: 2, 1280: 2, 1293: 2, 1336: 2, 1355: 2, 1381: 2, 1458: 2, 1466: 2, 1477: 2, 1482: 2, 1522: 2, 1619: 2, 1698: 2, 1778: 2, 1810: 2, 1815: 2, 1863: 2, 1877: 2, 2068: 2, 2153: 2, 2186: 2, 2210: 2, 2304: 2, 2643: 2, 2679: 2, 2716: 2, 2791: 2, 2826: 2, 2930: 2, 2986: 2, 3107: 2, 3357: 2, 3405: 2, 263: 2, 306: 2, 332: 2, 815: 2, 1365: 2, 1708: 2, 1765: 2, 2018: 2, 2062: 2, 2328: 2, 2505: 2, 2559: 2, 2706: 2, 2827: 2, 2879: 2, 2922: 2, 3280: 2, 3345: 2, 25: 2, 232: 2, 527: 2, 857: 2, 1322: 2, 1557: 2, 1566: 2, 1742: 2, 1766: 2, 1767: 2, 1912: 2, 1961: 2, 1976: 2, 2014: 2, 2954: 2, 3072: 2, 2064: 2, 2102: 2, 2142: 2, 3: 2, 2227: 2, 2698: 2}\n"
     ]
    }
   ],
   "source": [
    "#L, edges = BFSdraw(G,0) \n",
    "#mydraw(G, edges)\n",
    "L = BFS(G, 0) \n",
    "# nx.draw(G, with_labels=True)\n",
    "print(L)"
   ]
  },
  {
   "cell_type": "markdown",
   "id": "d9a3a792",
   "metadata": {},
   "source": [
    "### Approche naïve\n",
    "\n",
    "Effectuez un parcours en largeur depuis chaque sommet $u$ de $G$, puis remplissez l'ensemble d'étiquettes $L$. `L[u][v]` est égal à la distance entre $u$ et $v$ dans $G$. Retournez $L$."
   ]
  },
  {
   "cell_type": "code",
   "execution_count": 43,
   "id": "ff879f1c",
   "metadata": {},
   "outputs": [],
   "source": [
    "def naive(G):\n",
    "    L = {}\n",
    "    for u in G.nodes:\n",
    "        L[u] = BFS(G, u)\n",
    "    return L"
   ]
  },
  {
   "cell_type": "markdown",
   "id": "7b4e7230",
   "metadata": {},
   "source": [
    "**Question :** Quelle est la complexité de `naive(G)` ? Donnez simplement l'ordre de grandeur (par exemple $O(n)$), ainsi qu'une justification en quelques lignes, pas besoin de fournir de coefficients ni de constantes."
   ]
  },
  {
   "cell_type": "markdown",
   "id": "0ac87fc9",
   "metadata": {},
   "source": [
    "**Réponse :**  La complexité de `naive(G)` est de $O(n^2 + nm)$, avec $n$ le nombre de sommets et $m$ le nombre d'arêtes. L'ordre de grandeur varie selon la densité du graphe : $O(n^2)$ pour les graphes peu denses ($m$ est de l'ordre de $n$) et $O(nm)$ pour les graphes denses ($n$ est de l'ordre de $m^2$, soit $O(m^3)$). L'algorithme faisant un parcours en largeur complet, il visite toutes les arêtes connectées à chaque sommet. Plus ces derniers ont d'arêtes, plus la méthode `naive(G)`sera coûteuse en temps de calcul.\n"
   ]
  },
  {
   "cell_type": "markdown",
   "id": "afdbb69d",
   "metadata": {},
   "source": [
    "### Requête\n",
    "\n",
    "Implémentez une méthode `requete(u, v, L)` permettant de récupérer la distance entre $u$ et $v$ dans $G$ depuis $L$. Pour ce faire, à partir de `L[u]` et `L[v]`, vous devez trouver le sommet $z$ qui minimise la distance `L[u][z] + L[v][z]`. Retournez cette distance."
   ]
  },
  {
   "cell_type": "code",
   "execution_count": 44,
   "id": "8fd9327a",
   "metadata": {},
   "outputs": [],
   "source": [
    "def requete(u, v, L):\n",
    "    distance = float('inf')\n",
    "    for z in L[u].keys() & L[v].keys():\n",
    "            dist_temp = L[u][z] + L[v][z]\n",
    "            if dist_temp < distance:\n",
    "                distance = dist_temp\n",
    "    return distance"
   ]
  },
  {
   "cell_type": "markdown",
   "id": "2f093ce2",
   "metadata": {},
   "source": [
    "### Akiba\n",
    "\n",
    "Vous allez maintenant implémenter l'algorithme d'Akiba. Cet algorithme est similaire à l'approche naïve que vous avez déjà implémentée. L'idée est d'effectuer des parcours en largeur partiels, de manière à éviter de renseigner deux fois la même information dans l'ensemble d'étiquettes $L$, comme expliqué ci-dessus.\n",
    "\n",
    "Commencez par implémenter la méthode `pruned_BFS(G, u, L)`, qui va effectuer un parcours en largeur partiel depuis le sommet $u$ dans le graphe $G$. Au moment où le parcours considère le sommet $v$, vous ne devez pas explorer les voisins de $v$ si `requete(u, v, L)` est inférieur ou égal à la distance entre $u$ et $v$ mesurée lors de ce parcours. Sinon, vous devez rajouter l'étiquette `L[u][v]` (donc la distance entre $u$ et $v$) à $L$, comme expliqué dans [la publication originale](https://arxiv.org/pdf/1304.4661.pdf).\n",
    "\n",
    "Retournez l'ensemble d'étiquette $L_{new}$, qui est l'ensemble d'étiquettes $L$, auquel vous aurez rajouté les étiquettes du parcours en largeur partiel depuis $u$."
   ]
  },
  {
   "cell_type": "code",
   "execution_count": 45,
   "id": "ae5860e0",
   "metadata": {},
   "outputs": [],
   "source": [
    "def pruned_BFS(G, u, L):\n",
    "    L_new = L.copy()\n",
    "    P = {v: float('inf') for v in G.nodes()}\n",
    "    P[u] = 0 # Point de départ = distance 0\n",
    "    q = queue.Queue()\n",
    "    q.put(u)\n",
    "    while not q.empty():\n",
    "        v = q.get()\n",
    "        if requete(u, v, L) <= P[v]: # Si la distance entre u et v dans L est plus petite que la distance actuelle\n",
    "            continue\n",
    "        L_new[v] = L[v] | {u : P[v]} # Mise à jour de la distance entre u et v\n",
    "        for w in G.neighbors(v): \n",
    "            if P[w] == float('inf'):\n",
    "                P[w] = P[v] + 1 # Mise à jour de la distance entre u et w\n",
    "                q.put(w)         \n",
    "    return L_new"
   ]
  },
  {
   "cell_type": "markdown",
   "id": "41718f8b",
   "metadata": {},
   "source": [
    "Vous pouvez maintenant effectuer un `pruned_BFS(G, u, L)` depuis tous les sommets $u$ de $G$, de manière à remplir l'ensemble d'étiquettes $L$."
   ]
  },
  {
   "cell_type": "code",
   "execution_count": 46,
   "id": "2abee5d5",
   "metadata": {},
   "outputs": [],
   "source": [
    "def akiba(G):\n",
    "    L = {u: {} for u in G.nodes()}\n",
    "    for u in G.nodes():\n",
    "        L = pruned_BFS(G, u, L)\n",
    "    return L"
   ]
  },
  {
   "cell_type": "markdown",
   "id": "e6c19906",
   "metadata": {},
   "source": [
    "Votre implémentation de l'algorithme d'Akiba devrait maintenant être fonctionnelle. Vous pouvez vérifier son bon fonctionnement en comparant son résultat avec le résultat de la fonction [shortest_path_length](https://networkx.org/documentation/stable/reference/algorithms/generated/networkx.algorithms.shortest_paths.generic.shortest_path_length.html) de la librairie Networkx. Je vous conseille de vérifier vos résultats sur plusieurs paires de sommets car j'utiliserai une paire de sommets aléatoire, ainsi qu'un autre graphe quand je noterai vos travaux.\n",
    "\n",
    "Ne touchez pas au code ci-dessous, je m'en servirai pour noter vos travaux."
   ]
  },
  {
   "cell_type": "code",
   "execution_count": 49,
   "id": "d91e8cc3",
   "metadata": {},
   "outputs": [
    {
     "name": "stdout",
     "output_type": "stream",
     "text": [
      "1\n"
     ]
    },
    {
     "ename": "KeyboardInterrupt",
     "evalue": "",
     "output_type": "error",
     "traceback": [
      "\u001b[1;31m---------------------------------------------------------------------------\u001b[0m",
      "\u001b[1;31mKeyboardInterrupt\u001b[0m                         Traceback (most recent call last)",
      "Cell \u001b[1;32mIn[49], line 3\u001b[0m\n\u001b[0;32m      1\u001b[0m distance1 \u001b[38;5;241m=\u001b[39m nx\u001b[38;5;241m.\u001b[39mshortest_path_length(G, sommet1, sommet2)\n\u001b[0;32m      2\u001b[0m \u001b[38;5;28mprint\u001b[39m(distance1)\n\u001b[1;32m----> 3\u001b[0m L \u001b[38;5;241m=\u001b[39m \u001b[43makiba\u001b[49m\u001b[43m(\u001b[49m\u001b[43mG\u001b[49m\u001b[43m)\u001b[49m\n\u001b[0;32m      4\u001b[0m distance2 \u001b[38;5;241m=\u001b[39m requete(sommet1, sommet2, L)\n\u001b[0;32m      5\u001b[0m \u001b[38;5;28mprint\u001b[39m(distance2)\n",
      "Cell \u001b[1;32mIn[46], line 4\u001b[0m, in \u001b[0;36makiba\u001b[1;34m(G)\u001b[0m\n\u001b[0;32m      2\u001b[0m L \u001b[38;5;241m=\u001b[39m {u: {} \u001b[38;5;28;01mfor\u001b[39;00m u \u001b[38;5;129;01min\u001b[39;00m G\u001b[38;5;241m.\u001b[39mnodes()}\n\u001b[0;32m      3\u001b[0m \u001b[38;5;28;01mfor\u001b[39;00m u \u001b[38;5;129;01min\u001b[39;00m G\u001b[38;5;241m.\u001b[39mnodes():\n\u001b[1;32m----> 4\u001b[0m     L \u001b[38;5;241m=\u001b[39m \u001b[43mpruned_BFS\u001b[49m\u001b[43m(\u001b[49m\u001b[43mG\u001b[49m\u001b[43m,\u001b[49m\u001b[43m \u001b[49m\u001b[43mu\u001b[49m\u001b[43m,\u001b[49m\u001b[43m \u001b[49m\u001b[43mL\u001b[49m\u001b[43m)\u001b[49m\n\u001b[0;32m      5\u001b[0m \u001b[38;5;28;01mreturn\u001b[39;00m L\n",
      "Cell \u001b[1;32mIn[45], line -1\u001b[0m, in \u001b[0;36mpruned_BFS\u001b[1;34m(G, u, L)\u001b[0m\n\u001b[0;32m      0\u001b[0m <Error retrieving source code with stack_data see ipython/ipython#13598>\n",
      "\u001b[1;31mKeyboardInterrupt\u001b[0m: "
     ]
    }
   ],
   "source": [
    "distance1 = nx.shortest_path_length(G, sommet1, sommet2)\n",
    "print(distance1)\n",
    "L = akiba(G)\n",
    "distance2 = requete(sommet1, sommet2, L)\n",
    "print(distance2)\n",
    "print(distance1 == distance2)"
   ]
  },
  {
   "cell_type": "markdown",
   "id": "80556a68",
   "metadata": {},
   "source": [
    "Pour finir, affichez le temps d'éxecution de votre implémentation d'Akiba en fonction du nombre de requêtes (le nombre d'exécutions de `requete(u, v, L)`)."
   ]
  },
  {
   "cell_type": "code",
   "execution_count": null,
   "id": "4cf3716b",
   "metadata": {},
   "outputs": [],
   "source": [
    "#import time  # déjà importé plus haut\n",
    "\n",
    "def exectime(n, G, sommet1, sommet2):\n",
    "    n_tab = [i for i in range(1, n+1)]\n",
    "    start_time = time.perf_counter()\n",
    "    result = {n : 0 for n in n_tab}\n",
    "    L = akiba(G)\n",
    "    akiba_time = time.perf_counter() - start_time\n",
    "    for n in n_tab:\n",
    "        t = time.perf_counter()\n",
    "        for _ in range(n):\n",
    "            requete(sommet1, sommet2, L)\n",
    "        result[n] = time.perf_counter() - t + akiba_time\n",
    "    return result"
   ]
  },
  {
   "cell_type": "code",
   "execution_count": null,
   "id": "5b771e3d",
   "metadata": {},
   "outputs": [
    {
     "data": {
      "image/png": "[encoded data removed]",
      "text/plain": [
       "<Figure size 1000x600 with 1 Axes>"
      ]
     },
     "metadata": {},
     "output_type": "display_data"
    }
   ],
   "source": [
    "n = 1000\n",
    "exec_tab = exectime(n, G, sommet1, sommet2)\n",
    "plt.figure(figsize=(10, 6))\n",
    "plt.plot(list(exec_tab.keys()), list(exec_tab.values()))\n",
    "plt.ylim(0, max(exec_tab.values()) + 0.1)\n",
    "plt.xlabel(\"Nombre de requêtes\")\n",
    "plt.ylabel(\"Temps d'exécution (secondes)\")\n",
    "plt.title(\"Temps d'exécution de l'algorithme d'Akiba\")\n",
    "plt.grid(True, which=\"both\", ls=\"--\") \n",
    "plt.show()"
   ]
  },
  {
   "cell_type": "markdown",
   "id": "0e15bfe7",
   "metadata": {},
   "source": [
    "L'algorithme d'Akiba prend plus de temps que Dijkstra lors de la première requête car il doit construire l'ensemble d'étiquettes. Par contre, les requêtes suivantes prennent très peu de temps. Cet algorithme est donc rentable si le nombre de requêtes est élevé."
   ]
  }
 ],
 "metadata": {
  "kernelspec": {
   "display_name": "Python 3 (ipykernel)",
   "language": "python",
   "name": "python3"
  },
  "language_info": {
   "codemirror_mode": {
    "name": "ipython",
    "version": 3
   },
   "file_extension": ".py",
   "mimetype": "text/x-python",
   "name": "python",
   "nbconvert_exporter": "python",
   "pygments_lexer": "ipython3",
   "version": "3.11.3"
  }
 },
 "nbformat": 4,
 "nbformat_minor": 5
}
