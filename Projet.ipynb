{
 "cells": [
  {
   "cell_type": "markdown",
   "id": "b41c12cb",
   "metadata": {},
   "source": [
    "# Parcours de graphe"
   ]
  },
  {
   "cell_type": "markdown",
   "id": "65825fb7",
   "metadata": {},
   "source": [
    "L'objectif de ce projet est d'étudier des algorithmes de calcul de plus court chemin.\n",
    "\n",
    "Ce projet est :\n",
    "\n",
    "*   À faire par groupe de 4 maximum\n",
    "*   À rendre sous forme de notebook Jupyter sur Moodle au plus tard le vendredi 12 avril à 23h59.\n",
    "\n",
    "Ce sujet a été testé sur la machine virtuelle \"ULR Ubuntu 20.04\". Il devrait aussi fonctionner sur les installations Linux récentes, et sur Google Collab."
   ]
  },
  {
   "cell_type": "code",
   "execution_count": 56,
   "id": "04568b4b",
   "metadata": {
    "scrolled": true
   },
   "outputs": [
    {
     "name": "stdout",
     "output_type": "stream",
     "text": [
      "Requirement already satisfied: partition-networkx in c:\\users\\enora\\appdata\\local\\programs\\python\\python312\\lib\\site-packages (0.0.2)\n",
      "Requirement already satisfied: networkx in c:\\users\\enora\\appdata\\local\\programs\\python\\python312\\lib\\site-packages (from partition-networkx) (3.2.1)\n",
      "Requirement already satisfied: python-louvain in c:\\users\\enora\\appdata\\local\\programs\\python\\python312\\lib\\site-packages (from partition-networkx) (0.16)\n",
      "Requirement already satisfied: numpy in c:\\users\\enora\\appdata\\local\\programs\\python\\python312\\lib\\site-packages (from partition-networkx) (1.26.3)\n",
      "Requirement already satisfied: matplotlib in c:\\users\\enora\\appdata\\local\\programs\\python\\python312\\lib\\site-packages (3.8.2)\n",
      "Requirement already satisfied: contourpy>=1.0.1 in c:\\users\\enora\\appdata\\local\\programs\\python\\python312\\lib\\site-packages (from matplotlib) (1.2.0)\n",
      "Requirement already satisfied: cycler>=0.10 in c:\\users\\enora\\appdata\\local\\programs\\python\\python312\\lib\\site-packages (from matplotlib) (0.12.1)\n",
      "Requirement already satisfied: fonttools>=4.22.0 in c:\\users\\enora\\appdata\\local\\programs\\python\\python312\\lib\\site-packages (from matplotlib) (4.47.2)\n",
      "Requirement already satisfied: kiwisolver>=1.3.1 in c:\\users\\enora\\appdata\\local\\programs\\python\\python312\\lib\\site-packages (from matplotlib) (1.4.5)\n",
      "Requirement already satisfied: numpy<2,>=1.21 in c:\\users\\enora\\appdata\\local\\programs\\python\\python312\\lib\\site-packages (from matplotlib) (1.26.3)\n",
      "Requirement already satisfied: packaging>=20.0 in c:\\users\\enora\\appdata\\local\\programs\\python\\python312\\lib\\site-packages (from matplotlib) (23.2)\n",
      "Requirement already satisfied: pillow>=8 in c:\\users\\enora\\appdata\\local\\programs\\python\\python312\\lib\\site-packages (from matplotlib) (10.2.0)\n",
      "Requirement already satisfied: pyparsing>=2.3.1 in c:\\users\\enora\\appdata\\local\\programs\\python\\python312\\lib\\site-packages (from matplotlib) (3.1.1)\n",
      "Requirement already satisfied: python-dateutil>=2.7 in c:\\users\\enora\\appdata\\local\\programs\\python\\python312\\lib\\site-packages (from matplotlib) (2.8.2)\n",
      "Requirement already satisfied: six>=1.5 in c:\\users\\enora\\appdata\\local\\programs\\python\\python312\\lib\\site-packages (from python-dateutil>=2.7->matplotlib) (1.16.0)\n",
      "Requirement already satisfied: networkx in c:\\users\\enora\\appdata\\local\\programs\\python\\python312\\lib\\site-packages (3.2.1)\n"
     ]
    }
   ],
   "source": [
    "# Installation des dépendances\n",
    "\n",
    "!pip install partition-networkx\n",
    "!pip install matplotlib\n",
    "!pip install networkx\n",
    "\n",
    "import networkx as nx\n",
    "import matplotlib.pyplot as plt"
   ]
  },
  {
   "cell_type": "code",
   "execution_count": 57,
   "id": "0f1030bc",
   "metadata": {},
   "outputs": [],
   "source": [
    "def mydraw(G, edges):\n",
    "    pos = nx.spring_layout(G)\n",
    "    nx.draw_networkx_nodes(G, pos, node_color=\"grey\")\n",
    "    nx.draw_networkx_edges(G, pos, edge_color=\"red\")\n",
    "    nx.draw_networkx_edges(G, pos, edgelist=edges, width=6, alpha=0.5, edge_color=\"orange\")\n",
    "    nx.draw_networkx_labels(G, pos)\n",
    "    plt.show()"
   ]
  },
  {
   "cell_type": "markdown",
   "id": "011912b8",
   "metadata": {},
   "source": [
    "## Échauffement"
   ]
  },
  {
   "cell_type": "markdown",
   "id": "b9c9a2e0",
   "metadata": {},
   "source": [
    "Le code ci dessous permet de générer un graphe $G$. Vous utiliserez ce graphe pour tout le reste du projet."
   ]
  },
  {
   "cell_type": "code",
   "execution_count": 58,
   "id": "25e1ff2d",
   "metadata": {},
   "outputs": [],
   "source": [
    "# Génération d'un graphe aléatoire contenant 200 sommets, 0.6 probabilité de connexion\n",
    "\n",
    "G = nx.gnp_random_graph(200, 0.6)\n",
    "\n",
    "sommet1 = 10\n",
    "sommet2 = 20"
   ]
  },
  {
   "cell_type": "markdown",
   "id": "9eaf845b",
   "metadata": {},
   "source": [
    "### Implémentation de l'algorithme de Dijkstra"
   ]
  },
  {
   "cell_type": "markdown",
   "id": "e29e0f17",
   "metadata": {},
   "source": [
    "L'algorithme de Dijkstra est un algorithme de calcul de plus court chemin dans un graphe, propose par Edsger Dijkstra en 1959.\n",
    "\n",
    "Je vous propose de commencer par implémenter cet algorithme. Vous avez normalement vu cet algorithme en CM et en TD. Si vous en avez besoin, vous pouvez aussi consulter la [page Wikipédia](https://fr.wikipedia.org/wiki/Algorithme_de_Dijkstra), ou même la [publication originale](https://d1wqtxts1xzle7.cloudfront.net/82011040/9256D-libre.pdf?1646987426=&response-content-disposition=inline%3B+filename%3DA_Note_on_Two_Problems_in_Connexion_with.pdf&Expires=1709315850&Signature=dcrazHFOoCjPooxh~~A8wHovENpsna4Moa2NqtpKl-eyfSW~buuvxBC0vuD6TyKEdViPTsnNg9ii1kQJt65WKHto3cWvoElwa8u8AjRHgAu7L~GVU~eeRCKL~vb1nQzWeOaMseIv27eWndKIvTnipqWqJ2QDueuwA8Ii9m6HOovxXqZPSVL1bsI~ok9uLfQ0R9-MHPeC8Xd5okdJUtgOTVrn1hrQZBRcRxyG-Aq1kxwO4iOM3yNiD-UKe4JFUq1d~FyFzo00G9zgaS0LfR-h0YBA4EYk89Vkfv6ZCdgWgq8ndaZjo~yuK7Azf2JZYWUkO-bGEN~mYSikOxTdBWvzyQ__&Key-Pair-Id=APKAJLOHF5GGSLRBV4ZA). Votre implémentation retournera un plus court chemin de la forme `[source, sommet_1, sommet_2, ..., target]`."
   ]
  },
  {
   "cell_type": "code",
   "execution_count": 59,
   "id": "e6590ccb",
   "metadata": {},
   "outputs": [],
   "source": [
    "def dijkstra(G, source, target):\n",
    "    L = []\n",
    "    \n",
    "    return L"
   ]
  },
  {
   "cell_type": "markdown",
   "id": "505890eb",
   "metadata": {},
   "source": [
    "Vérifiez vos résultats en les comparant au plus court chemin fourni par [l'implémentation de l'algorithme de Dijkstra par la librairie Networkx](https://networkx.org/documentation/stable/reference/algorithms/generated/networkx.algorithms.shortest_paths.weighted.dijkstra_path.html) à l'aide du code ci-dessous.\n",
    "\n",
    "Ne touchez pas au code ci-dessous, je m'en servirai pour noter vos travaux."
   ]
  },
  {
   "cell_type": "code",
   "execution_count": 60,
   "id": "5648000f",
   "metadata": {},
   "outputs": [
    {
     "name": "stdout",
     "output_type": "stream",
     "text": [
      "[10, 20]\n",
      "[]\n",
      "False\n"
     ]
    }
   ],
   "source": [
    "path1 = nx.dijkstra_path(G, sommet1, sommet2)\n",
    "print(path1)\n",
    "path2 = dijkstra(G, sommet1, sommet2)\n",
    "print(path2)\n",
    "print(path1 == path2)"
   ]
  },
  {
   "cell_type": "markdown",
   "id": "1c76c579",
   "metadata": {},
   "source": [
    "L'inconvévient de l'algorithme de Dijkstra est qu'il explore une grande partie du graphe avant de trouver le plus court chemin. C'est à dire qu'en partant d'un sommet source, il va passer en revue beaucoup de sommets avant de trouver le sommet destination. D'autres algorithmes, comme l'[algorithme A*](https://fr.wikipedia.org/wiki/Algorithme_A*) proposent des optimisations permettant d'explorer moins de sommets, et donc de trouver un plus court chemin plus rapidement."
   ]
  },
  {
   "cell_type": "markdown",
   "id": "592609c4",
   "metadata": {},
   "source": [
    "### Étude du temps d'exécution\n",
    "\n",
    "Affichez maintenant le temps d'exécution de votre implémentation de Dijkstra en fonction de la taille d'un graphe $H$ (en nombre de sommets).\n",
    "\n",
    "Vous pouvez générer de nouveaux graphes pour cette question uniquement. Dans le reste de votre projet, vous devez utiliser le graphe $G$ généré au début de ce document.\n",
    "\n",
    "Vous pouvez utiliser la librairie [time](https://docs.python.org/fr/3/library/time.html) et/ou [datetime](https://docs.python.org/fr/3/library/datetime.html) pour mesurer des temps d'exécution.\n",
    "\n",
    "Vous pouvez utiliser la librairie [matplotlib](https://matplotlib.org/stable/) pour afficher vos résultats. J'ai utilisé [plt.plot()](https://matplotlib.org/stable/api/_as_gen/matplotlib.pyplot.plot.html) pour la figure ci-dessous.\n",
    "\n",
    "J'ai volontairement laissé la figure que j'obtiens avec mon code pour vous donner une idée du résultat attendu."
   ]
  },
  {
   "cell_type": "code",
   "execution_count": null,
   "id": "10d9afc2",
   "metadata": {},
   "outputs": [],
   "source": []
  },
  {
   "cell_type": "markdown",
   "id": "b307d93c",
   "metadata": {},
   "source": [
    "Affichez maintenant le temps d'exécution de votre implémentation de Dijkstra en fonction du nombre de plus court chemins demandés (donc en fonction du nombre d'exécutions de Dijkstra), pour le graphe $G$ (généré lors de l'échauffement)."
   ]
  },
  {
   "cell_type": "code",
   "execution_count": null,
   "id": "259984b0",
   "metadata": {},
   "outputs": [],
   "source": []
  },
  {
   "cell_type": "markdown",
   "id": "e7d621be",
   "metadata": {},
   "source": [
    "Sans surprise, le temps d'exécution augmente de manière linéaire par rapport au nombre d'exécution de Dijkstra demandé : deux exécutions de Dijkstra prennent environ deux fois plus de temps qu'une seule exécution. Ceci n'est pas vrai pour tous les algorithmes. Certaines approches réalisent une étape de précalcul, qui permet d'économiser du temps lors des futurs exécutions."
   ]
  },
  {
   "cell_type": "markdown",
   "id": "53f96e6f",
   "metadata": {},
   "source": [
    "## Algorithme d'Akiba"
   ]
  },
  {
   "cell_type": "markdown",
   "id": "112323c7",
   "metadata": {},
   "source": [
    "Nous allons maintenant étudier l'[algorithme d'Akiba](https://arxiv.org/pdf/1304.4661.pdf), qui est un algorithme de calcul de distance (longueur d'un plus court chemin) dans des graphes, proposé en 2013 par Akiba *et al*. Cet algorithme réalise d'abord une étape de précalcul, pendant laquelle il ajoute des étiquettes (*labels*) sur les sommets du graphe. Ces étiquettes permettent ensuite de répondre rapidement à des requêtes demandant d'identifier la distance entre deux sommets."
   ]
  },
  {
   "cell_type": "markdown",
   "id": "b6e1ffbe",
   "metadata": {},
   "source": [
    "Plus précisément, cet algorithme :\n",
    "\n",
    "* Calcule pour chaque sommet $u$ de $G$, des étiquettes (pas toutes) de la forme ($v_i$, δ$(u, v_i)$), où δ$(u, v_i)$ représente la distance entre u et $v_i$ dans $G$.\n",
    "* L'ensemble d'étiquettes $L$ est calculé en faisant un parcours en largeur partiel, depuis chaque sommet $u$ de $G$.\n",
    "* Une fois $L$ calculé, la distance entre deux sommets $u$ et $v$ est calculée en faisant `requete(u, v, L)`. Cette fonction consiste simplement à trouver un sommet $z$ tel que :\n",
    "  * ($z$, δ$(u, z)$) et ($z$, δ$(v, z)$) existent, c'est à dire que $z$ est dans les étiquettes de $u$ et de $v$\n",
    "  * $z$ minimise δ$(u, z)$ + δ$(v, z)$, c'est à dire la distance en $u$ et $z$ puis la distance entre $z$ et $v$.\n",
    "\n",
    "L'algorithme d'Akiba ne calcule pas toutes les étiquettes de chacun des sommets, ce serait très couteux en temps et en mémoire. L'algorithme effectue des parcours en largeur partiels, comme suit :\n",
    "\n",
    "* Initialement, l'ensemble d'étiquettes $L_0$ est vide. L'ensemble d'étiquettes $L_k$ est généré lors du $k$ ième parcours en largeur. Lors du $k+1$ ième parcours en largeur, effectué depuis un sommet $u$, l'algorithme ne parcours pas les voisins d'un sommet $v$ (donc dans l'arbre généré par ce parcours, $v$ sera une feuille) quand `requete(u, v, L_k)` est inférieur ou égal à la distance mesurée lors du $k+1$ ième parcours. Autrement dit, on ne parcours pas au dela du sommet $v$, quand on sait déjà qu'il existe un chemin plus court reliant $u$ à $v$.\n",
    "\n",
    "Pour plus de détails, je vous invite à consulter [la publication originale](https://arxiv.org/pdf/1304.4661.pdf) (vous pouvez bien sûr aussi me poser des questions)."
   ]
  },
  {
   "cell_type": "markdown",
   "id": "e081de8b",
   "metadata": {},
   "source": [
    "### Parcours en largeur\n",
    "\n",
    "Commencez par implémenter un parcours en largeur complet d'un graphe $G$, sans l'optimisation mentionée ci-dessus. `BFS(G, u)` doit retourner un dictionnaire $L$ tel que `L[v]` est égal à la distance entre le sommet $u$ et le sommet $v$ dans le graphe $G$, pour tous les sommets $v$ du graphe $G$."
   ]
  },
  {
   "cell_type": "code",
   "execution_count": 61,
   "id": "2218bb9e",
   "metadata": {},
   "outputs": [],
   "source": [
    "import queue\n",
    "\n",
    "def BFS(G, u):\n",
    "    L = {u : 0}\n",
    "    q = queue.Queue()\n",
    "    visited = {u}\n",
    "    q.put([u, 0])\n",
    "    while not q.empty():\n",
    "        [u, dist]= q.get()\n",
    "        for v in G.neighbors(u):\n",
    "            if v not in visited:\n",
    "                visited.add(v)\n",
    "                L[v] = dist + 1\n",
    "                q.put([v, L[v]])\n",
    "    return L\n",
    "\n",
    "### Pour avoir un support visuel, on utilise une version qui retourne L et les arêtes retenues\n",
    "def BFSdraw(G, u):\n",
    "    L = {u : 0}\n",
    "    q = queue.Queue()\n",
    "    visited = {u}\n",
    "    edges = []\n",
    "    q.put([u, 0])\n",
    "    while not q.empty():\n",
    "        [u, dist]= q.get()\n",
    "        for v in G.neighbors(u):\n",
    "            if v not in visited:\n",
    "                visited.add(v)\n",
    "                edges.append((u, v))\n",
    "                L[v] = dist + 1\n",
    "                q.put([v, L[v]])\n",
    "    return L, edges"
   ]
  },
  {
   "cell_type": "code",
   "execution_count": 62,
   "id": "5b8f0403",
   "metadata": {},
   "outputs": [
    {
     "name": "stdout",
     "output_type": "stream",
     "text": [
      "{0: 0, 1: 1, 2: 1, 4: 1, 7: 1, 9: 1, 10: 1, 11: 1, 12: 1, 13: 1, 14: 1, 16: 1, 18: 1, 20: 1, 21: 1, 23: 1, 27: 1, 28: 1, 29: 1, 31: 1, 32: 1, 33: 1, 34: 1, 35: 1, 37: 1, 38: 1, 39: 1, 40: 1, 41: 1, 43: 1, 44: 1, 45: 1, 47: 1, 48: 1, 49: 1, 53: 1, 54: 1, 55: 1, 56: 1, 58: 1, 59: 1, 65: 1, 68: 1, 71: 1, 72: 1, 73: 1, 74: 1, 76: 1, 79: 1, 80: 1, 81: 1, 82: 1, 84: 1, 85: 1, 86: 1, 87: 1, 88: 1, 89: 1, 90: 1, 92: 1, 93: 1, 95: 1, 97: 1, 99: 1, 100: 1, 101: 1, 103: 1, 104: 1, 106: 1, 107: 1, 108: 1, 110: 1, 111: 1, 112: 1, 113: 1, 117: 1, 118: 1, 119: 1, 120: 1, 122: 1, 123: 1, 125: 1, 130: 1, 131: 1, 133: 1, 134: 1, 135: 1, 137: 1, 138: 1, 141: 1, 142: 1, 144: 1, 145: 1, 146: 1, 147: 1, 148: 1, 149: 1, 150: 1, 151: 1, 152: 1, 153: 1, 154: 1, 155: 1, 157: 1, 158: 1, 159: 1, 161: 1, 163: 1, 164: 1, 165: 1, 166: 1, 167: 1, 168: 1, 169: 1, 170: 1, 173: 1, 175: 1, 176: 1, 177: 1, 180: 1, 182: 1, 185: 1, 186: 1, 187: 1, 188: 1, 190: 1, 192: 1, 193: 1, 194: 1, 195: 1, 197: 1, 198: 1, 3: 2, 5: 2, 6: 2, 8: 2, 15: 2, 17: 2, 19: 2, 22: 2, 24: 2, 25: 2, 36: 2, 50: 2, 60: 2, 61: 2, 62: 2, 69: 2, 70: 2, 75: 2, 77: 2, 78: 2, 83: 2, 91: 2, 98: 2, 114: 2, 115: 2, 124: 2, 126: 2, 127: 2, 129: 2, 132: 2, 139: 2, 140: 2, 143: 2, 162: 2, 171: 2, 172: 2, 174: 2, 179: 2, 181: 2, 184: 2, 189: 2, 191: 2, 196: 2, 30: 2, 42: 2, 51: 2, 52: 2, 57: 2, 64: 2, 66: 2, 67: 2, 94: 2, 96: 2, 102: 2, 105: 2, 109: 2, 116: 2, 121: 2, 128: 2, 136: 2, 156: 2, 160: 2, 199: 2, 26: 2, 46: 2, 63: 2, 178: 2, 183: 2}\n"
     ]
    }
   ],
   "source": [
    "#L, edges = BFSdraw(G,0) \n",
    "#mydraw(G, edges)\n",
    "L = BFS(G, 0) \n",
    "# nx.draw(G, with_labels=True)\n",
    "print(L)"
   ]
  },
  {
   "cell_type": "markdown",
   "id": "d9a3a792",
   "metadata": {},
   "source": [
    "### Approche naïve\n",
    "\n",
    "Effectuez un parcours en largeur depuis chaque sommet $u$ de $G$, puis remplissez l'ensemble d'étiquettes $L$. `L[u][v]` est égal à la distance entre $u$ et $v$ dans $G$. Retournez $L$."
   ]
  },
  {
   "cell_type": "code",
   "execution_count": 63,
   "id": "ff879f1c",
   "metadata": {},
   "outputs": [],
   "source": [
    "def naive(G):\n",
    "    L = {}\n",
    "    for u in G.nodes:\n",
    "        L[u] = BFS(G, u)\n",
    "    return L"
   ]
  },
  {
   "cell_type": "markdown",
   "id": "7b4e7230",
   "metadata": {},
   "source": [
    "**Question :** Quelle est la complexité de `naive(G)` ? Donnez simplement l'ordre de grandeur (par exemple $O(n)$), ainsi qu'une justification en quelques lignes, pas besoin de fournir de coefficients ni de constantes."
   ]
  },
  {
   "cell_type": "markdown",
   "id": "0ac87fc9",
   "metadata": {},
   "source": [
    "**Réponse :**"
   ]
  },
  {
   "cell_type": "markdown",
   "id": "afdbb69d",
   "metadata": {},
   "source": [
    "### Requête\n",
    "\n",
    "Implémentez une méthode `requete(u, v, L)` permettant de récupérer la distance entre $u$ et $v$ dans $G$ depuis $L$. Pour ce faire, à partir de `L[u]` et `L[v]`, vous devez trouver le sommet $z$ qui minimise la distance `L[u][z] + L[v][z]`. Retournez cette distance."
   ]
  },
  {
   "cell_type": "code",
   "execution_count": 128,
   "id": "8fd9327a",
   "metadata": {},
   "outputs": [],
   "source": [
    "def requete(u, v, L):\n",
    "    distance = float('inf')\n",
    "    for z in L[u].keys() & L[v].keys():\n",
    "            dist_temp = L[u][z] + L[v][z]\n",
    "            if dist_temp < distance:\n",
    "                distance = dist_temp\n",
    "    return distance"
   ]
  },
  {
   "cell_type": "markdown",
   "id": "2f093ce2",
   "metadata": {},
   "source": [
    "### Akiba\n",
    "\n",
    "Vous allez maintenant implémenter l'algorithme d'Akiba. Cet algorithme est similaire à l'approche naïve que vous avez déjà implémentée. L'idée est d'effectuer des parcours en largeur partiels, de manière à éviter de renseigner deux fois la même information dans l'ensemble d'étiquettes $L$, comme expliqué ci-dessus.\n",
    "\n",
    "Commencez par implémenter la méthode `pruned_BFS(G, u, L)`, qui va effectuer un parcours en largeur partiel depuis le sommet $u$ dans le graphe $G$. Au moment où le parcours considère le sommet $v$, vous ne devez pas explorer les voisins de $v$ si `requete(u, v, L)` est inférieur ou égal à la distance entre $u$ et $v$ mesurée lors de ce parcours. Sinon, vous devez rajouter l'étiquette `L[u][v]` (donc la distance entre $u$ et $v$) à $L$, comme expliqué dans [la publication originale](https://arxiv.org/pdf/1304.4661.pdf).\n",
    "\n",
    "Retournez l'ensemble d'étiquette $L_{new}$, qui est l'ensemble d'étiquettes $L$, auquel vous aurez rajouté les étiquettes du parcours en largeur partiel depuis $u$."
   ]
  },
  {
   "cell_type": "code",
   "execution_count": 130,
   "id": "ae5860e0",
   "metadata": {},
   "outputs": [],
   "source": [
    "def pruned_BFS(G, u, L):\n",
    "    L_new = {v: L[v].copy() for v in G.nodes()} # copie profonde de L\n",
    "    P = {v: float('inf') for v in G.nodes()}\n",
    "    P[u] = 0\n",
    "    q = queue.Queue()\n",
    "    q.put(u)\n",
    "    while not q.empty():\n",
    "        v = q.get()\n",
    "        if requete(u, v, L) <= P[v]:\n",
    "            continue\n",
    "        L_new[v] = L[v] | {u : P[v]}\n",
    "        for w in G.neighbors(v):\n",
    "            if P[w] == float('inf'):\n",
    "                P[w] = P[v] + 1\n",
    "                q.put(w)         \n",
    "    return L_new"
   ]
  },
  {
   "cell_type": "markdown",
   "id": "41718f8b",
   "metadata": {},
   "source": [
    "Vous pouvez maintenant effectuer un `pruned_BFS(G, u, L)` depuis tous les sommets $u$ de $G$, de manière à remplir l'ensemble d'étiquettes $L$."
   ]
  },
  {
   "cell_type": "code",
   "execution_count": 126,
   "id": "2abee5d5",
   "metadata": {},
   "outputs": [],
   "source": [
    "def akiba(G):\n",
    "    L = {u: {} for u in G.nodes()}\n",
    "    for u in G.nodes():\n",
    "        L = pruned_BFS(G, u, L)\n",
    "    return L"
   ]
  },
  {
   "cell_type": "markdown",
   "id": "e6c19906",
   "metadata": {},
   "source": [
    "Votre implémentation de l'algorithme d'Akiba devrait maintenant être fonctionnelle. Vous pouvez vérifier son bon fonctionnement en comparant son résultat avec le résultat de la fonction [shortest_path_length](https://networkx.org/documentation/stable/reference/algorithms/generated/networkx.algorithms.shortest_paths.generic.shortest_path_length.html) de la librairie Networkx. Je vous conseille de vérifier vos résultats sur plusieurs paires de sommets car j'utiliserai une paire de sommets aléatoire, ainsi qu'un autre graphe quand je noterai vos travaux.\n",
    "\n",
    "Ne touchez pas au code ci-dessous, je m'en servirai pour noter vos travaux."
   ]
  },
  {
   "cell_type": "code",
   "execution_count": 137,
   "id": "d91e8cc3",
   "metadata": {},
   "outputs": [
    {
     "name": "stdout",
     "output_type": "stream",
     "text": [
      "1\n",
      "1\n",
      "True\n"
     ]
    }
   ],
   "source": [
    "distance1 = nx.shortest_path_length(G, sommet1, sommet2)\n",
    "print(distance1)\n",
    "L = akiba(G)\n",
    "distance2 = requete(sommet1, sommet2, L)\n",
    "print(distance2)\n",
    "print(distance1 == distance2)"
   ]
  },
  {
   "cell_type": "markdown",
   "id": "80556a68",
   "metadata": {},
   "source": [
    "Pour finir, affichez le temps d'éxecution de votre implémentation d'Akiba en fonction du nombre de requêtes (le nombre d'exécutions de `requete(u, v, L)`)."
   ]
  },
  {
   "cell_type": "code",
   "execution_count": 147,
   "id": "4cf3716b",
   "metadata": {},
   "outputs": [],
   "source": [
    "import time\n",
    "\n",
    "def exectime(n_tab, G, sommet1, sommet2):\n",
    "    start_time = time.perf_counter()\n",
    "    result = {n : 0 for n in n_tab}\n",
    "    L = akiba(G)\n",
    "    for n in n_tab:\n",
    "        for _ in range(n):\n",
    "            requete(sommet1, sommet2, L)\n",
    "        result[n] = time.perf_counter() - start_time\n",
    "    return result"
   ]
  },
  {
   "cell_type": "code",
   "execution_count": 150,
   "id": "5b771e3d",
   "metadata": {},
   "outputs": [
    {
     "data": {
      "image/png": "[encoded data removed]",
      "text/plain": [
       "<Figure size 1000x600 with 1 Axes>"
      ]
     },
     "metadata": {},
     "output_type": "display_data"
    }
   ],
   "source": [
    "n_tab = [1, 10, 100, 1000, 10000]\n",
    "exec_tab = exectime(n_tab, G, sommet1, sommet2)\n",
    "plt.figure(figsize=(10, 6))\n",
    "plt.plot(list(exec_tab.keys()), list(exec_tab.values()), marker='o')\n",
    "plt.xscale('log') \n",
    "plt.yscale('log')\n",
    "plt.xlabel('Number of Requests')\n",
    "plt.ylabel('Execution Time (seconds)')\n",
    "plt.title('Execution Time per Number of Requests')\n",
    "plt.grid(True, which=\"both\", ls=\"--\") \n",
    "plt.show()"
   ]
  },
  {
   "cell_type": "markdown",
   "id": "0e15bfe7",
   "metadata": {},
   "source": [
    "L'algorithme d'Akiba prend plus de temps que Dijkstra lors de la première requête car il doit construire l'ensemble d'étiquettes. Par contre, les requêtes suivantes prennent très peu de temps. Cet algorithme est donc rentable si le nombre de requêtes est élevé."
   ]
  }
 ],
 "metadata": {
  "kernelspec": {
   "display_name": "Python 3 (ipykernel)",
   "language": "python",
   "name": "python3"
  },
  "language_info": {
   "codemirror_mode": {
    "name": "ipython",
    "version": 3
   },
   "file_extension": ".py",
   "mimetype": "text/x-python",
   "name": "python",
   "nbconvert_exporter": "python",
   "pygments_lexer": "ipython3",
   "version": "3.12.0"
  }
 },
 "nbformat": 4,
 "nbformat_minor": 5
}
